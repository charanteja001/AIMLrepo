{
 "cells": [
  {
   "cell_type": "code",
   "execution_count": 63,
   "id": "cb21d166",
   "metadata": {},
   "outputs": [],
   "source": [
    "import numpy as np\n",
    "import pandas as pd\n",
    "import matplotlib.pyplot as plt\n",
    "import seaborn as sns"
   ]
  },
  {
   "cell_type": "markdown",
   "id": "538d789e",
   "metadata": {},
   "source": [
    "# 1. Data Preparation:\n",
    "\n",
    "# a. Load the dataset using pandas.\n",
    "\n",
    "# b. Explore and clean the data. Handle missing values and outliers.\n",
    "\n",
    "# c. Split the dataset into training and testing sets."
   ]
  },
  {
   "cell_type": "code",
   "execution_count": 64,
   "id": "7a9146e4",
   "metadata": {},
   "outputs": [
    {
     "data": {
      "text/html": [
       "<div>\n",
       "<style scoped>\n",
       "    .dataframe tbody tr th:only-of-type {\n",
       "        vertical-align: middle;\n",
       "    }\n",
       "\n",
       "    .dataframe tbody tr th {\n",
       "        vertical-align: top;\n",
       "    }\n",
       "\n",
       "    .dataframe thead th {\n",
       "        text-align: right;\n",
       "    }\n",
       "</style>\n",
       "<table border=\"1\" class=\"dataframe\">\n",
       "  <thead>\n",
       "    <tr style=\"text-align: right;\">\n",
       "      <th></th>\n",
       "      <th>area_type</th>\n",
       "      <th>availability</th>\n",
       "      <th>location</th>\n",
       "      <th>size</th>\n",
       "      <th>total_sqft</th>\n",
       "      <th>bath</th>\n",
       "      <th>balcony</th>\n",
       "      <th>price(US$)</th>\n",
       "    </tr>\n",
       "  </thead>\n",
       "  <tbody>\n",
       "    <tr>\n",
       "      <th>0</th>\n",
       "      <td>Super built-up  Area</td>\n",
       "      <td>19-Dec</td>\n",
       "      <td>Electronic City Phase II</td>\n",
       "      <td>2 BHK</td>\n",
       "      <td>1056.0</td>\n",
       "      <td>2</td>\n",
       "      <td>1</td>\n",
       "      <td>39.07</td>\n",
       "    </tr>\n",
       "    <tr>\n",
       "      <th>1</th>\n",
       "      <td>Plot  Area</td>\n",
       "      <td>Ready To Move</td>\n",
       "      <td>Chikka Tirupathi</td>\n",
       "      <td>4 BHK</td>\n",
       "      <td>2600.0</td>\n",
       "      <td>5</td>\n",
       "      <td>3</td>\n",
       "      <td>120.00</td>\n",
       "    </tr>\n",
       "    <tr>\n",
       "      <th>2</th>\n",
       "      <td>Built-up  Area</td>\n",
       "      <td>Ready To Move</td>\n",
       "      <td>Uttarahalli</td>\n",
       "      <td>3 BHK</td>\n",
       "      <td>1440.0</td>\n",
       "      <td>2</td>\n",
       "      <td>3</td>\n",
       "      <td>62.00</td>\n",
       "    </tr>\n",
       "    <tr>\n",
       "      <th>3</th>\n",
       "      <td>Super built-up  Area</td>\n",
       "      <td>Ready To Move</td>\n",
       "      <td>Lingadheeranahalli</td>\n",
       "      <td>3 BHK</td>\n",
       "      <td>1521.0</td>\n",
       "      <td>3</td>\n",
       "      <td>1</td>\n",
       "      <td>95.00</td>\n",
       "    </tr>\n",
       "    <tr>\n",
       "      <th>4</th>\n",
       "      <td>Super built-up  Area</td>\n",
       "      <td>Ready To Move</td>\n",
       "      <td>Kothanur</td>\n",
       "      <td>2 BHK</td>\n",
       "      <td>1200.0</td>\n",
       "      <td>2</td>\n",
       "      <td>1</td>\n",
       "      <td>51.00</td>\n",
       "    </tr>\n",
       "    <tr>\n",
       "      <th>...</th>\n",
       "      <td>...</td>\n",
       "      <td>...</td>\n",
       "      <td>...</td>\n",
       "      <td>...</td>\n",
       "      <td>...</td>\n",
       "      <td>...</td>\n",
       "      <td>...</td>\n",
       "      <td>...</td>\n",
       "    </tr>\n",
       "    <tr>\n",
       "      <th>494</th>\n",
       "      <td>Super built-up  Area</td>\n",
       "      <td>18-Apr</td>\n",
       "      <td>Electronic City</td>\n",
       "      <td>2 BHK</td>\n",
       "      <td>1128.0</td>\n",
       "      <td>2</td>\n",
       "      <td>1</td>\n",
       "      <td>63.00</td>\n",
       "    </tr>\n",
       "    <tr>\n",
       "      <th>495</th>\n",
       "      <td>Super built-up  Area</td>\n",
       "      <td>Ready To Move</td>\n",
       "      <td>Omkar Nagar</td>\n",
       "      <td>2 BHK</td>\n",
       "      <td>1000.0</td>\n",
       "      <td>2</td>\n",
       "      <td>1</td>\n",
       "      <td>53.00</td>\n",
       "    </tr>\n",
       "    <tr>\n",
       "      <th>496</th>\n",
       "      <td>Super built-up  Area</td>\n",
       "      <td>Ready To Move</td>\n",
       "      <td>Yelahanka</td>\n",
       "      <td>2 BHK</td>\n",
       "      <td>1035.0</td>\n",
       "      <td>2</td>\n",
       "      <td>1</td>\n",
       "      <td>45.00</td>\n",
       "    </tr>\n",
       "    <tr>\n",
       "      <th>497</th>\n",
       "      <td>Built-up  Area</td>\n",
       "      <td>Ready To Move</td>\n",
       "      <td>Kereguddadahalli</td>\n",
       "      <td>2 BHK</td>\n",
       "      <td>950.0</td>\n",
       "      <td>2</td>\n",
       "      <td>1</td>\n",
       "      <td>32.00</td>\n",
       "    </tr>\n",
       "    <tr>\n",
       "      <th>498</th>\n",
       "      <td>Super built-up  Area</td>\n",
       "      <td>Ready To Move</td>\n",
       "      <td>Bisuvanahalli</td>\n",
       "      <td>3 BHK</td>\n",
       "      <td>1075.0</td>\n",
       "      <td>2</td>\n",
       "      <td>1</td>\n",
       "      <td>36.00</td>\n",
       "    </tr>\n",
       "  </tbody>\n",
       "</table>\n",
       "<p>499 rows × 8 columns</p>\n",
       "</div>"
      ],
      "text/plain": [
       "                area_type   availability                  location   size  \\\n",
       "0    Super built-up  Area         19-Dec  Electronic City Phase II  2 BHK   \n",
       "1              Plot  Area  Ready To Move          Chikka Tirupathi  4 BHK   \n",
       "2          Built-up  Area  Ready To Move               Uttarahalli  3 BHK   \n",
       "3    Super built-up  Area  Ready To Move        Lingadheeranahalli  3 BHK   \n",
       "4    Super built-up  Area  Ready To Move                  Kothanur  2 BHK   \n",
       "..                    ...            ...                       ...    ...   \n",
       "494  Super built-up  Area         18-Apr           Electronic City  2 BHK   \n",
       "495  Super built-up  Area  Ready To Move               Omkar Nagar  2 BHK   \n",
       "496  Super built-up  Area  Ready To Move                 Yelahanka  2 BHK   \n",
       "497        Built-up  Area  Ready To Move          Kereguddadahalli  2 BHK   \n",
       "498  Super built-up  Area  Ready To Move             Bisuvanahalli  3 BHK   \n",
       "\n",
       "     total_sqft  bath  balcony  price(US$)  \n",
       "0        1056.0     2        1       39.07  \n",
       "1        2600.0     5        3      120.00  \n",
       "2        1440.0     2        3       62.00  \n",
       "3        1521.0     3        1       95.00  \n",
       "4        1200.0     2        1       51.00  \n",
       "..          ...   ...      ...         ...  \n",
       "494      1128.0     2        1       63.00  \n",
       "495      1000.0     2        1       53.00  \n",
       "496      1035.0     2        1       45.00  \n",
       "497       950.0     2        1       32.00  \n",
       "498      1075.0     2        1       36.00  \n",
       "\n",
       "[499 rows x 8 columns]"
      ]
     },
     "execution_count": 64,
     "metadata": {},
     "output_type": "execute_result"
    }
   ],
   "source": [
    "df = pd.read_csv('Bangalore_house_data.csv')\n",
    "df"
   ]
  },
  {
   "cell_type": "code",
   "execution_count": 66,
   "id": "c230d11e",
   "metadata": {},
   "outputs": [
    {
     "data": {
      "text/html": [
       "<div>\n",
       "<style scoped>\n",
       "    .dataframe tbody tr th:only-of-type {\n",
       "        vertical-align: middle;\n",
       "    }\n",
       "\n",
       "    .dataframe tbody tr th {\n",
       "        vertical-align: top;\n",
       "    }\n",
       "\n",
       "    .dataframe thead th {\n",
       "        text-align: right;\n",
       "    }\n",
       "</style>\n",
       "<table border=\"1\" class=\"dataframe\">\n",
       "  <thead>\n",
       "    <tr style=\"text-align: right;\">\n",
       "      <th></th>\n",
       "      <th>area_type</th>\n",
       "      <th>availability</th>\n",
       "      <th>location</th>\n",
       "      <th>size</th>\n",
       "      <th>total_sqft</th>\n",
       "      <th>bath</th>\n",
       "      <th>balcony</th>\n",
       "      <th>price(US$)</th>\n",
       "    </tr>\n",
       "  </thead>\n",
       "  <tbody>\n",
       "    <tr>\n",
       "      <th>0</th>\n",
       "      <td>Super built-up  Area</td>\n",
       "      <td>19-Dec</td>\n",
       "      <td>Electronic City Phase II</td>\n",
       "      <td>2 BHK</td>\n",
       "      <td>1056.0</td>\n",
       "      <td>2</td>\n",
       "      <td>1</td>\n",
       "      <td>39.07</td>\n",
       "    </tr>\n",
       "    <tr>\n",
       "      <th>1</th>\n",
       "      <td>Plot  Area</td>\n",
       "      <td>Ready To Move</td>\n",
       "      <td>Chikka Tirupathi</td>\n",
       "      <td>4 BHK</td>\n",
       "      <td>2600.0</td>\n",
       "      <td>5</td>\n",
       "      <td>3</td>\n",
       "      <td>120.00</td>\n",
       "    </tr>\n",
       "    <tr>\n",
       "      <th>2</th>\n",
       "      <td>Built-up  Area</td>\n",
       "      <td>Ready To Move</td>\n",
       "      <td>Uttarahalli</td>\n",
       "      <td>3 BHK</td>\n",
       "      <td>1440.0</td>\n",
       "      <td>2</td>\n",
       "      <td>3</td>\n",
       "      <td>62.00</td>\n",
       "    </tr>\n",
       "    <tr>\n",
       "      <th>3</th>\n",
       "      <td>Super built-up  Area</td>\n",
       "      <td>Ready To Move</td>\n",
       "      <td>Lingadheeranahalli</td>\n",
       "      <td>3 BHK</td>\n",
       "      <td>1521.0</td>\n",
       "      <td>3</td>\n",
       "      <td>1</td>\n",
       "      <td>95.00</td>\n",
       "    </tr>\n",
       "    <tr>\n",
       "      <th>4</th>\n",
       "      <td>Super built-up  Area</td>\n",
       "      <td>Ready To Move</td>\n",
       "      <td>Kothanur</td>\n",
       "      <td>2 BHK</td>\n",
       "      <td>1200.0</td>\n",
       "      <td>2</td>\n",
       "      <td>1</td>\n",
       "      <td>51.00</td>\n",
       "    </tr>\n",
       "  </tbody>\n",
       "</table>\n",
       "</div>"
      ],
      "text/plain": [
       "              area_type   availability                  location   size  \\\n",
       "0  Super built-up  Area         19-Dec  Electronic City Phase II  2 BHK   \n",
       "1            Plot  Area  Ready To Move          Chikka Tirupathi  4 BHK   \n",
       "2        Built-up  Area  Ready To Move               Uttarahalli  3 BHK   \n",
       "3  Super built-up  Area  Ready To Move        Lingadheeranahalli  3 BHK   \n",
       "4  Super built-up  Area  Ready To Move                  Kothanur  2 BHK   \n",
       "\n",
       "   total_sqft  bath  balcony  price(US$)  \n",
       "0      1056.0     2        1       39.07  \n",
       "1      2600.0     5        3      120.00  \n",
       "2      1440.0     2        3       62.00  \n",
       "3      1521.0     3        1       95.00  \n",
       "4      1200.0     2        1       51.00  "
      ]
     },
     "execution_count": 66,
     "metadata": {},
     "output_type": "execute_result"
    }
   ],
   "source": [
    "df.head()"
   ]
  },
  {
   "cell_type": "code",
   "execution_count": 67,
   "id": "6ac03313",
   "metadata": {},
   "outputs": [
    {
     "data": {
      "text/html": [
       "<div>\n",
       "<style scoped>\n",
       "    .dataframe tbody tr th:only-of-type {\n",
       "        vertical-align: middle;\n",
       "    }\n",
       "\n",
       "    .dataframe tbody tr th {\n",
       "        vertical-align: top;\n",
       "    }\n",
       "\n",
       "    .dataframe thead th {\n",
       "        text-align: right;\n",
       "    }\n",
       "</style>\n",
       "<table border=\"1\" class=\"dataframe\">\n",
       "  <thead>\n",
       "    <tr style=\"text-align: right;\">\n",
       "      <th></th>\n",
       "      <th>area_type</th>\n",
       "      <th>availability</th>\n",
       "      <th>location</th>\n",
       "      <th>size</th>\n",
       "      <th>total_sqft</th>\n",
       "      <th>bath</th>\n",
       "      <th>balcony</th>\n",
       "      <th>price(US$)</th>\n",
       "    </tr>\n",
       "  </thead>\n",
       "  <tbody>\n",
       "    <tr>\n",
       "      <th>494</th>\n",
       "      <td>Super built-up  Area</td>\n",
       "      <td>18-Apr</td>\n",
       "      <td>Electronic City</td>\n",
       "      <td>2 BHK</td>\n",
       "      <td>1128.0</td>\n",
       "      <td>2</td>\n",
       "      <td>1</td>\n",
       "      <td>63.0</td>\n",
       "    </tr>\n",
       "    <tr>\n",
       "      <th>495</th>\n",
       "      <td>Super built-up  Area</td>\n",
       "      <td>Ready To Move</td>\n",
       "      <td>Omkar Nagar</td>\n",
       "      <td>2 BHK</td>\n",
       "      <td>1000.0</td>\n",
       "      <td>2</td>\n",
       "      <td>1</td>\n",
       "      <td>53.0</td>\n",
       "    </tr>\n",
       "    <tr>\n",
       "      <th>496</th>\n",
       "      <td>Super built-up  Area</td>\n",
       "      <td>Ready To Move</td>\n",
       "      <td>Yelahanka</td>\n",
       "      <td>2 BHK</td>\n",
       "      <td>1035.0</td>\n",
       "      <td>2</td>\n",
       "      <td>1</td>\n",
       "      <td>45.0</td>\n",
       "    </tr>\n",
       "    <tr>\n",
       "      <th>497</th>\n",
       "      <td>Built-up  Area</td>\n",
       "      <td>Ready To Move</td>\n",
       "      <td>Kereguddadahalli</td>\n",
       "      <td>2 BHK</td>\n",
       "      <td>950.0</td>\n",
       "      <td>2</td>\n",
       "      <td>1</td>\n",
       "      <td>32.0</td>\n",
       "    </tr>\n",
       "    <tr>\n",
       "      <th>498</th>\n",
       "      <td>Super built-up  Area</td>\n",
       "      <td>Ready To Move</td>\n",
       "      <td>Bisuvanahalli</td>\n",
       "      <td>3 BHK</td>\n",
       "      <td>1075.0</td>\n",
       "      <td>2</td>\n",
       "      <td>1</td>\n",
       "      <td>36.0</td>\n",
       "    </tr>\n",
       "  </tbody>\n",
       "</table>\n",
       "</div>"
      ],
      "text/plain": [
       "                area_type   availability          location   size  total_sqft  \\\n",
       "494  Super built-up  Area         18-Apr   Electronic City  2 BHK      1128.0   \n",
       "495  Super built-up  Area  Ready To Move       Omkar Nagar  2 BHK      1000.0   \n",
       "496  Super built-up  Area  Ready To Move         Yelahanka  2 BHK      1035.0   \n",
       "497        Built-up  Area  Ready To Move  Kereguddadahalli  2 BHK       950.0   \n",
       "498  Super built-up  Area  Ready To Move     Bisuvanahalli  3 BHK      1075.0   \n",
       "\n",
       "     bath  balcony  price(US$)  \n",
       "494     2        1        63.0  \n",
       "495     2        1        53.0  \n",
       "496     2        1        45.0  \n",
       "497     2        1        32.0  \n",
       "498     2        1        36.0  "
      ]
     },
     "execution_count": 67,
     "metadata": {},
     "output_type": "execute_result"
    }
   ],
   "source": [
    "df.tail()"
   ]
  },
  {
   "cell_type": "code",
   "execution_count": 68,
   "id": "69f59feb",
   "metadata": {},
   "outputs": [
    {
     "name": "stdout",
     "output_type": "stream",
     "text": [
      "<class 'pandas.core.frame.DataFrame'>\n",
      "RangeIndex: 499 entries, 0 to 498\n",
      "Data columns (total 8 columns):\n",
      " #   Column        Non-Null Count  Dtype  \n",
      "---  ------        --------------  -----  \n",
      " 0   area_type     499 non-null    object \n",
      " 1   availability  499 non-null    object \n",
      " 2   location      499 non-null    object \n",
      " 3   size          499 non-null    object \n",
      " 4   total_sqft    499 non-null    float64\n",
      " 5   bath          499 non-null    int64  \n",
      " 6   balcony       499 non-null    int64  \n",
      " 7   price(US$)    499 non-null    float64\n",
      "dtypes: float64(2), int64(2), object(4)\n",
      "memory usage: 31.3+ KB\n"
     ]
    }
   ],
   "source": [
    "df.info()"
   ]
  },
  {
   "cell_type": "code",
   "execution_count": 69,
   "id": "006809db",
   "metadata": {},
   "outputs": [
    {
     "data": {
      "text/plain": [
       "area_type       0\n",
       "availability    0\n",
       "location        0\n",
       "size            0\n",
       "total_sqft      0\n",
       "bath            0\n",
       "balcony         0\n",
       "price(US$)      0\n",
       "dtype: int64"
      ]
     },
     "execution_count": 69,
     "metadata": {},
     "output_type": "execute_result"
    }
   ],
   "source": [
    "df.isna().sum()"
   ]
  },
  {
   "cell_type": "code",
   "execution_count": 70,
   "id": "14489626",
   "metadata": {},
   "outputs": [
    {
     "data": {
      "text/html": [
       "<div>\n",
       "<style scoped>\n",
       "    .dataframe tbody tr th:only-of-type {\n",
       "        vertical-align: middle;\n",
       "    }\n",
       "\n",
       "    .dataframe tbody tr th {\n",
       "        vertical-align: top;\n",
       "    }\n",
       "\n",
       "    .dataframe thead th {\n",
       "        text-align: right;\n",
       "    }\n",
       "</style>\n",
       "<table border=\"1\" class=\"dataframe\">\n",
       "  <thead>\n",
       "    <tr style=\"text-align: right;\">\n",
       "      <th></th>\n",
       "      <th>total_sqft</th>\n",
       "      <th>bath</th>\n",
       "      <th>balcony</th>\n",
       "    </tr>\n",
       "  </thead>\n",
       "  <tbody>\n",
       "    <tr>\n",
       "      <th>0</th>\n",
       "      <td>1056.0</td>\n",
       "      <td>2</td>\n",
       "      <td>1</td>\n",
       "    </tr>\n",
       "    <tr>\n",
       "      <th>1</th>\n",
       "      <td>2600.0</td>\n",
       "      <td>5</td>\n",
       "      <td>3</td>\n",
       "    </tr>\n",
       "    <tr>\n",
       "      <th>2</th>\n",
       "      <td>1440.0</td>\n",
       "      <td>2</td>\n",
       "      <td>3</td>\n",
       "    </tr>\n",
       "    <tr>\n",
       "      <th>3</th>\n",
       "      <td>1521.0</td>\n",
       "      <td>3</td>\n",
       "      <td>1</td>\n",
       "    </tr>\n",
       "    <tr>\n",
       "      <th>4</th>\n",
       "      <td>1200.0</td>\n",
       "      <td>2</td>\n",
       "      <td>1</td>\n",
       "    </tr>\n",
       "  </tbody>\n",
       "</table>\n",
       "</div>"
      ],
      "text/plain": [
       "   total_sqft  bath  balcony\n",
       "0      1056.0     2        1\n",
       "1      2600.0     5        3\n",
       "2      1440.0     2        3\n",
       "3      1521.0     3        1\n",
       "4      1200.0     2        1"
      ]
     },
     "execution_count": 70,
     "metadata": {},
     "output_type": "execute_result"
    }
   ],
   "source": [
    "x=df.iloc[:,-4:-1]\n",
    "x.head(5)"
   ]
  },
  {
   "cell_type": "code",
   "execution_count": 71,
   "id": "8eaae2bb",
   "metadata": {},
   "outputs": [
    {
     "data": {
      "text/html": [
       "<div>\n",
       "<style scoped>\n",
       "    .dataframe tbody tr th:only-of-type {\n",
       "        vertical-align: middle;\n",
       "    }\n",
       "\n",
       "    .dataframe tbody tr th {\n",
       "        vertical-align: top;\n",
       "    }\n",
       "\n",
       "    .dataframe thead th {\n",
       "        text-align: right;\n",
       "    }\n",
       "</style>\n",
       "<table border=\"1\" class=\"dataframe\">\n",
       "  <thead>\n",
       "    <tr style=\"text-align: right;\">\n",
       "      <th></th>\n",
       "      <th>price(US$)</th>\n",
       "    </tr>\n",
       "  </thead>\n",
       "  <tbody>\n",
       "    <tr>\n",
       "      <th>0</th>\n",
       "      <td>39.07</td>\n",
       "    </tr>\n",
       "    <tr>\n",
       "      <th>1</th>\n",
       "      <td>120.00</td>\n",
       "    </tr>\n",
       "    <tr>\n",
       "      <th>2</th>\n",
       "      <td>62.00</td>\n",
       "    </tr>\n",
       "    <tr>\n",
       "      <th>3</th>\n",
       "      <td>95.00</td>\n",
       "    </tr>\n",
       "    <tr>\n",
       "      <th>4</th>\n",
       "      <td>51.00</td>\n",
       "    </tr>\n",
       "  </tbody>\n",
       "</table>\n",
       "</div>"
      ],
      "text/plain": [
       "   price(US$)\n",
       "0       39.07\n",
       "1      120.00\n",
       "2       62.00\n",
       "3       95.00\n",
       "4       51.00"
      ]
     },
     "execution_count": 71,
     "metadata": {},
     "output_type": "execute_result"
    }
   ],
   "source": [
    "y=df.iloc[:,-1:]\n",
    "y.head(5)"
   ]
  },
  {
   "cell_type": "code",
   "execution_count": 72,
   "id": "7e248394",
   "metadata": {},
   "outputs": [],
   "source": [
    "from sklearn.model_selection import train_test_split\n",
    "from sklearn.linear_model import LinearRegression \n",
    "from sklearn.linear_model import Ridge \n",
    "from sklearn.linear_model import Lasso\n",
    "from sklearn.metrics import mean_absolute_error, mean_squared_error,r2_score"
   ]
  },
  {
   "cell_type": "markdown",
   "id": "e1ac8612",
   "metadata": {},
   "source": [
    "# 2. Implement Lasso Regression:\n",
    "\n",
    "a. Choose a set of features (independent variables, X) and house prices as the dependent variable (v).\n",
    "\n",
    "b. Implement Lasso regression using scikit-learn to predict house prices based on the selected features.\n",
    "\n",
    "c. Discuss the impact of L1 regularization on feature selection and coefficients."
   ]
  },
  {
   "cell_type": "code",
   "execution_count": 73,
   "id": "29006abf",
   "metadata": {},
   "outputs": [],
   "source": [
    "features = ['total_sqft', 'bath', 'balcony']\n",
    "x = df[features]\n",
    "y = df['price(US$)']\n"
   ]
  },
  {
   "cell_type": "code",
   "execution_count": 74,
   "id": "931410d4",
   "metadata": {},
   "outputs": [],
   "source": [
    "import sklearn\n",
    "from sklearn.model_selection import train_test_split\n",
    "x_train,x_test,y_train,y_test = train_test_split(x,y,test_size=0.2)"
   ]
  },
  {
   "cell_type": "code",
   "execution_count": 75,
   "id": "b2195452",
   "metadata": {},
   "outputs": [
    {
     "name": "stdout",
     "output_type": "stream",
     "text": [
      "Training Started......\n",
      "\n",
      "\n",
      "\n",
      "Training Completed......\n",
      "\n",
      "\n",
      "Testing Invoked.....\n",
      "\n",
      "Predicted Total Payment\n",
      " [ 55.73216707  -4.5575958  167.56431582 108.01904563  70.74848246\n",
      " 353.30543885 -12.17939039 111.114722    92.31678107 114.50915601\n",
      "   2.87365392  93.01295986  12.0313924   51.30132128 234.76065235\n",
      "  74.4538777  178.75814893 155.36944449 120.64196523  60.78160598\n",
      "  58.11397788 126.35831117  87.36125923 301.57115274  86.4085349\n",
      " -16.943012   135.98082683  81.12159259 106.20751405  97.31926146\n",
      " 123.02377603  59.63833679  36.34490478  67.64122111  87.0767973\n",
      "  53.68313209  -7.27218244  40.29803304  74.69002573  69.54666975\n",
      " 116.35470577  62.11406466 119.6892409  187.1244362   11.63871769\n",
      "  88.60115622 196.81159717  38.10676709  -3.12850932  98.7939511\n",
      "  12.0313924   91.55460162  96.2229508    2.11147446  73.28448231\n",
      "  -7.41576877 353.18564108 417.05902746 142.99561327  76.69210218\n",
      "  36.10604602  69.40308342 139.42221938 168.65927111  92.41205351\n",
      "  76.8636049   71.1179872   86.29693107 133.83651942  59.49475046\n",
      " 135.74196806  57.01766722  60.78160598  68.64090396  51.92126978\n",
      "  52.56558646 110.65740198 105.25478973 110.01841134  78.90653809\n",
      " 111.16168053  60.06638506 192.09628945  27.48321321  49.74769061\n",
      " 154.94004086  82.26486178  49.06309681  45.10861318 105.25478973\n",
      "  60.82856451  55.39803587 102.54020309 131.12193278 318.45680645\n",
      "  92.39301136 115.87834361 125.1973552   56.16021533  50.96854546]\n",
      "\n",
      " Testing completed....\n",
      "\n"
     ]
    }
   ],
   "source": [
    "from sklearn.linear_model import LinearRegression\n",
    "mlr = LinearRegression()\n",
    "#Train the data\n",
    "print(\"Training Started......\\n\")\n",
    "print()\n",
    "mlr.fit(x_train,y_train)\n",
    "print()\n",
    "print(\"Training Completed......\\n\")\n",
    "print()\n",
    "#Test the Data\n",
    "print(\"Testing Invoked.....\\n\")\n",
    "y_pred=mlr.predict(x_test)\n",
    "print(\"Predicted Total Payment\\n\",y_pred)\n",
    "print('\\n Testing completed....\\n')\n"
   ]
  },
  {
   "cell_type": "code",
   "execution_count": 82,
   "id": "6a1f2fa7",
   "metadata": {},
   "outputs": [
    {
     "name": "stdout",
     "output_type": "stream",
     "text": [
      "Base Train_score:\t 0.6518592826798218\n",
      "\n",
      "Base Test_score:\t 0.5073251787924165\n",
      "\n",
      "Base R-Square:\t 0.5073251787924165\n"
     ]
    }
   ],
   "source": [
    "\n",
    "print(\"Base Train_score:\\t\", mlr.score(x_train,y_train))\n",
    "print()\n",
    "print(\"Base Test_score:\\t\", mlr.score(x_test,y_test))\n",
    "print()\n",
    "print(\"Base R-Square:\\t\",r2_score(y_test,y_pred))"
   ]
  },
  {
   "cell_type": "code",
   "execution_count": 84,
   "id": "a3d78ac7",
   "metadata": {},
   "outputs": [
    {
     "name": "stdout",
     "output_type": "stream",
     "text": [
      "Mean Absolute Error (MAE):  38.98608923639021\n",
      "Mean Squared Error (MSE):  4777.289774170572\n",
      "Root Mean Squared Error (RMSE):  69.11794104406303\n",
      "R-squared value:  0.5073251787924165\n"
     ]
    }
   ],
   "source": [
    "\n",
    "\n",
    "# Calculate MAE, MSE, and RMSE\n",
    "mae = mean_absolute_error(y_test, y_pred)\n",
    "mse = mean_squared_error(y_test, y_pred)\n",
    "rmse = np.sqrt(mse)\n",
    "r2_value = r2_score(y_test, y_pred)\n",
    "\n",
    "print(f'Mean Absolute Error (MAE): ',mae)\n",
    "print(f'Mean Squared Error (MSE): ',mse)\n",
    "print(f'Root Mean Squared Error (RMSE): ',rmse)\n",
    "print(f'R-squared value: ',r2_value)"
   ]
  },
  {
   "cell_type": "markdown",
   "id": "33156f2a",
   "metadata": {},
   "source": [
    "# Lasso Regression"
   ]
  },
  {
   "cell_type": "code",
   "execution_count": 76,
   "id": "d6d8f95a",
   "metadata": {},
   "outputs": [
    {
     "name": "stdout",
     "output_type": "stream",
     "text": [
      "Lasso Regression Model\n",
      "\n",
      "Lasso Train_score:\t 0.6518592695900518\n",
      "\n",
      "Lasso Test_score:\t 0.507341395827883\n",
      "\n",
      "Lasso R-Square:\t 0.507341395827883\n"
     ]
    }
   ],
   "source": [
    "print(\"Lasso Regression Model\")\n",
    "print()\n",
    "lr=Lasso(alpha=0.01)\n",
    "lr.fit(x_train,y_train)\n",
    "lr_pred=lr.predict(x_test)\n",
    "print(\"Lasso Train_score:\\t\", lr.score(x_train,y_train))\n",
    "print()\n",
    "print(\"Lasso Test_score:\\t\", lr.score(x_test,y_test))\n",
    "print()\n",
    "print(\"Lasso R-Square:\\t\",r2_score(y_test,lr_pred))"
   ]
  },
  {
   "cell_type": "code",
   "execution_count": 86,
   "id": "38436cc8",
   "metadata": {},
   "outputs": [
    {
     "data": {
      "text/plain": [
       "array([ 0.0952743 , 17.88496367, -6.79586867])"
      ]
     },
     "execution_count": 86,
     "metadata": {},
     "output_type": "execute_result"
    }
   ],
   "source": [
    "lr.coef_"
   ]
  },
  {
   "cell_type": "markdown",
   "id": "954c9175",
   "metadata": {},
   "source": [
    "# Ridge Regression"
   ]
  },
  {
   "cell_type": "code",
   "execution_count": 88,
   "id": "31e9ff81",
   "metadata": {},
   "outputs": [
    {
     "name": "stdout",
     "output_type": "stream",
     "text": [
      "Ridge Regression Model\n",
      "\n",
      "Ridge Train_score:\t 0.6518592826684726\n",
      "\n",
      "Ridge Test_score:\t 0.5073263539690478\n",
      "\n",
      "Ridge R-Square:\t 0.5073263539690478\n"
     ]
    }
   ],
   "source": [
    "print(\"Ridge Regression Model\")\n",
    "print()\n",
    "rr=Ridge(alpha=0.01)\n",
    "rr.fit(x_train,y_train)\n",
    "rr_pred=rr.predict(x_test)\n",
    "print(\"Ridge Train_score:\\t\", rr.score(x_train,y_train))\n",
    "print()\n",
    "print(\"Ridge Test_score:\\t\", rr.score(x_test,y_test))\n",
    "print()\n",
    "print(\"Ridge R-Square:\\t\",r2_score(y_test,rr_pred))"
   ]
  },
  {
   "cell_type": "code",
   "execution_count": 89,
   "id": "5a5eb184",
   "metadata": {},
   "outputs": [
    {
     "data": {
      "text/plain": [
       "array([ 0.0952726 , 17.89315142, -6.81236477])"
      ]
     },
     "execution_count": 89,
     "metadata": {},
     "output_type": "execute_result"
    }
   ],
   "source": [
    "rr.coef_"
   ]
  },
  {
   "cell_type": "code",
   "execution_count": 90,
   "id": "60a04cb3",
   "metadata": {},
   "outputs": [
    {
     "name": "stdout",
     "output_type": "stream",
     "text": [
      "Ridge Regression Model\n",
      "\n",
      "Lasso Train_score:\t 0.6511357708607324\n",
      "\n",
      "Lasso Test_score:\t 0.5161102947737013\n",
      "\n",
      "Lasso R-Square:\t 0.5161102947737013\n"
     ]
    }
   ],
   "source": [
    "# with 100 alpha\n",
    "print(\"Ridge Regression Model\")\n",
    "print()\n",
    "rr=Ridge(alpha=100)\n",
    "rr.fit(x_train,y_train)\n",
    "rr_pred=rr.predict(x_test)\n",
    "print(\"Lasso Train_score:\\t\", rr.score(x_train,y_train))\n",
    "print()\n",
    "print(\"Lasso Test_score:\\t\", rr.score(x_test,y_test))\n",
    "print()\n",
    "print(\"Lasso R-Square:\\t\",r2_score(y_test,rr_pred))"
   ]
  },
  {
   "cell_type": "code",
   "execution_count": null,
   "id": "698909e3",
   "metadata": {},
   "outputs": [],
   "source": []
  }
 ],
 "metadata": {
  "kernelspec": {
   "display_name": "Python 3 (ipykernel)",
   "language": "python",
   "name": "python3"
  },
  "language_info": {
   "codemirror_mode": {
    "name": "ipython",
    "version": 3
   },
   "file_extension": ".py",
   "mimetype": "text/x-python",
   "name": "python",
   "nbconvert_exporter": "python",
   "pygments_lexer": "ipython3",
   "version": "3.11.4"
  }
 },
 "nbformat": 4,
 "nbformat_minor": 5
}
