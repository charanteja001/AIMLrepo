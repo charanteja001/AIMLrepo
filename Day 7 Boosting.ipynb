{
 "cells": [
  {
   "cell_type": "code",
   "execution_count": 1,
   "id": "acc7e948",
   "metadata": {},
   "outputs": [],
   "source": [
    "import numpy as np\n",
    "import pandas as pd\n",
    "import matplotlib.pyplot as plt\n",
    "import seaborn as sns"
   ]
  },
  {
   "cell_type": "markdown",
   "id": "cf3c134c",
   "metadata": {},
   "source": [
    "# Data Exploration"
   ]
  },
  {
   "cell_type": "code",
   "execution_count": 117,
   "id": "61f0fd7b",
   "metadata": {},
   "outputs": [
    {
     "data": {
      "text/html": [
       "<div>\n",
       "<style scoped>\n",
       "    .dataframe tbody tr th:only-of-type {\n",
       "        vertical-align: middle;\n",
       "    }\n",
       "\n",
       "    .dataframe tbody tr th {\n",
       "        vertical-align: top;\n",
       "    }\n",
       "\n",
       "    .dataframe thead th {\n",
       "        text-align: right;\n",
       "    }\n",
       "</style>\n",
       "<table border=\"1\" class=\"dataframe\">\n",
       "  <thead>\n",
       "    <tr style=\"text-align: right;\">\n",
       "      <th></th>\n",
       "      <th>exp(in months)</th>\n",
       "      <th>salary(in thousands)</th>\n",
       "    </tr>\n",
       "  </thead>\n",
       "  <tbody>\n",
       "    <tr>\n",
       "      <th>0</th>\n",
       "      <td>18.290293</td>\n",
       "      <td>16.521825</td>\n",
       "    </tr>\n",
       "    <tr>\n",
       "      <th>1</th>\n",
       "      <td>17.023407</td>\n",
       "      <td>11.666234</td>\n",
       "    </tr>\n",
       "    <tr>\n",
       "      <th>2</th>\n",
       "      <td>26.343613</td>\n",
       "      <td>23.167255</td>\n",
       "    </tr>\n",
       "    <tr>\n",
       "      <th>3</th>\n",
       "      <td>19.105834</td>\n",
       "      <td>20.877145</td>\n",
       "    </tr>\n",
       "    <tr>\n",
       "      <th>4</th>\n",
       "      <td>27.742516</td>\n",
       "      <td>23.166236</td>\n",
       "    </tr>\n",
       "  </tbody>\n",
       "</table>\n",
       "</div>"
      ],
      "text/plain": [
       "   exp(in months)  salary(in thousands)\n",
       "0       18.290293             16.521825\n",
       "1       17.023407             11.666234\n",
       "2       26.343613             23.167255\n",
       "3       19.105834             20.877145\n",
       "4       27.742516             23.166236"
      ]
     },
     "execution_count": 117,
     "metadata": {},
     "output_type": "execute_result"
    }
   ],
   "source": [
    "df = pd.read_csv('Experience-Salary.csv')\n",
    "df.head()\n"
   ]
  },
  {
   "cell_type": "markdown",
   "id": "d78281b2",
   "metadata": {},
   "source": [
    "# Data Preprocessing"
   ]
  },
  {
   "cell_type": "code",
   "execution_count": 118,
   "id": "f73f967e",
   "metadata": {},
   "outputs": [
    {
     "data": {
      "text/plain": [
       "exp(in months)          0\n",
       "salary(in thousands)    0\n",
       "dtype: int64"
      ]
     },
     "execution_count": 118,
     "metadata": {},
     "output_type": "execute_result"
    }
   ],
   "source": [
    "df.isna().sum()"
   ]
  },
  {
   "cell_type": "code",
   "execution_count": 119,
   "id": "1e1e1538",
   "metadata": {},
   "outputs": [
    {
     "name": "stdout",
     "output_type": "stream",
     "text": [
      "<class 'pandas.core.frame.DataFrame'>\n",
      "RangeIndex: 1000 entries, 0 to 999\n",
      "Data columns (total 2 columns):\n",
      " #   Column                Non-Null Count  Dtype  \n",
      "---  ------                --------------  -----  \n",
      " 0   exp(in months)        1000 non-null   float64\n",
      " 1   salary(in thousands)  1000 non-null   float64\n",
      "dtypes: float64(2)\n",
      "memory usage: 15.8 KB\n"
     ]
    }
   ],
   "source": [
    "df.info()"
   ]
  },
  {
   "cell_type": "code",
   "execution_count": 120,
   "id": "1cd8b69d",
   "metadata": {},
   "outputs": [
    {
     "data": {
      "text/html": [
       "<div>\n",
       "<style scoped>\n",
       "    .dataframe tbody tr th:only-of-type {\n",
       "        vertical-align: middle;\n",
       "    }\n",
       "\n",
       "    .dataframe tbody tr th {\n",
       "        vertical-align: top;\n",
       "    }\n",
       "\n",
       "    .dataframe thead th {\n",
       "        text-align: right;\n",
       "    }\n",
       "</style>\n",
       "<table border=\"1\" class=\"dataframe\">\n",
       "  <thead>\n",
       "    <tr style=\"text-align: right;\">\n",
       "      <th></th>\n",
       "      <th>count</th>\n",
       "      <th>mean</th>\n",
       "      <th>std</th>\n",
       "      <th>min</th>\n",
       "      <th>25%</th>\n",
       "      <th>50%</th>\n",
       "      <th>75%</th>\n",
       "      <th>max</th>\n",
       "    </tr>\n",
       "  </thead>\n",
       "  <tbody>\n",
       "    <tr>\n",
       "      <th>exp(in months)</th>\n",
       "      <td>1000.0</td>\n",
       "      <td>26.157825</td>\n",
       "      <td>8.717091</td>\n",
       "      <td>0.697594</td>\n",
       "      <td>20.073600</td>\n",
       "      <td>25.875225</td>\n",
       "      <td>32.406986</td>\n",
       "      <td>49.463222</td>\n",
       "    </tr>\n",
       "    <tr>\n",
       "      <th>salary(in thousands)</th>\n",
       "      <td>1000.0</td>\n",
       "      <td>26.722597</td>\n",
       "      <td>8.844761</td>\n",
       "      <td>-1.276342</td>\n",
       "      <td>20.531008</td>\n",
       "      <td>26.745576</td>\n",
       "      <td>32.615753</td>\n",
       "      <td>55.297016</td>\n",
       "    </tr>\n",
       "  </tbody>\n",
       "</table>\n",
       "</div>"
      ],
      "text/plain": [
       "                       count       mean       std       min        25%  \\\n",
       "exp(in months)        1000.0  26.157825  8.717091  0.697594  20.073600   \n",
       "salary(in thousands)  1000.0  26.722597  8.844761 -1.276342  20.531008   \n",
       "\n",
       "                            50%        75%        max  \n",
       "exp(in months)        25.875225  32.406986  49.463222  \n",
       "salary(in thousands)  26.745576  32.615753  55.297016  "
      ]
     },
     "execution_count": 120,
     "metadata": {},
     "output_type": "execute_result"
    }
   ],
   "source": [
    "df.describe().T"
   ]
  },
  {
   "cell_type": "code",
   "execution_count": 121,
   "id": "d3c24324",
   "metadata": {},
   "outputs": [
    {
     "data": {
      "text/plain": [
       "exp(in months)          float64\n",
       "salary(in thousands)    float64\n",
       "dtype: object"
      ]
     },
     "execution_count": 121,
     "metadata": {},
     "output_type": "execute_result"
    }
   ],
   "source": [
    "df.dtypes"
   ]
  },
  {
   "cell_type": "markdown",
   "id": "32d990e4",
   "metadata": {},
   "source": [
    "# Asssigning X and Y values"
   ]
  },
  {
   "cell_type": "code",
   "execution_count": 123,
   "id": "0d37ec13",
   "metadata": {},
   "outputs": [
    {
     "data": {
      "text/html": [
       "<div>\n",
       "<style scoped>\n",
       "    .dataframe tbody tr th:only-of-type {\n",
       "        vertical-align: middle;\n",
       "    }\n",
       "\n",
       "    .dataframe tbody tr th {\n",
       "        vertical-align: top;\n",
       "    }\n",
       "\n",
       "    .dataframe thead th {\n",
       "        text-align: right;\n",
       "    }\n",
       "</style>\n",
       "<table border=\"1\" class=\"dataframe\">\n",
       "  <thead>\n",
       "    <tr style=\"text-align: right;\">\n",
       "      <th></th>\n",
       "      <th>exp(in months)</th>\n",
       "    </tr>\n",
       "  </thead>\n",
       "  <tbody>\n",
       "    <tr>\n",
       "      <th>0</th>\n",
       "      <td>18.290293</td>\n",
       "    </tr>\n",
       "    <tr>\n",
       "      <th>1</th>\n",
       "      <td>17.023407</td>\n",
       "    </tr>\n",
       "    <tr>\n",
       "      <th>2</th>\n",
       "      <td>26.343613</td>\n",
       "    </tr>\n",
       "    <tr>\n",
       "      <th>3</th>\n",
       "      <td>19.105834</td>\n",
       "    </tr>\n",
       "    <tr>\n",
       "      <th>4</th>\n",
       "      <td>27.742516</td>\n",
       "    </tr>\n",
       "    <tr>\n",
       "      <th>...</th>\n",
       "      <td>...</td>\n",
       "    </tr>\n",
       "    <tr>\n",
       "      <th>995</th>\n",
       "      <td>22.161741</td>\n",
       "    </tr>\n",
       "    <tr>\n",
       "      <th>996</th>\n",
       "      <td>32.266497</td>\n",
       "    </tr>\n",
       "    <tr>\n",
       "      <th>997</th>\n",
       "      <td>17.039030</td>\n",
       "    </tr>\n",
       "    <tr>\n",
       "      <th>998</th>\n",
       "      <td>25.222124</td>\n",
       "    </tr>\n",
       "    <tr>\n",
       "      <th>999</th>\n",
       "      <td>16.418028</td>\n",
       "    </tr>\n",
       "  </tbody>\n",
       "</table>\n",
       "<p>1000 rows × 1 columns</p>\n",
       "</div>"
      ],
      "text/plain": [
       "     exp(in months)\n",
       "0         18.290293\n",
       "1         17.023407\n",
       "2         26.343613\n",
       "3         19.105834\n",
       "4         27.742516\n",
       "..              ...\n",
       "995       22.161741\n",
       "996       32.266497\n",
       "997       17.039030\n",
       "998       25.222124\n",
       "999       16.418028\n",
       "\n",
       "[1000 rows x 1 columns]"
      ]
     },
     "execution_count": 123,
     "metadata": {},
     "output_type": "execute_result"
    }
   ],
   "source": [
    "x= df.iloc[:,:-1]\n",
    "x"
   ]
  },
  {
   "cell_type": "code",
   "execution_count": 124,
   "id": "915f4658",
   "metadata": {},
   "outputs": [
    {
     "data": {
      "text/html": [
       "<div>\n",
       "<style scoped>\n",
       "    .dataframe tbody tr th:only-of-type {\n",
       "        vertical-align: middle;\n",
       "    }\n",
       "\n",
       "    .dataframe tbody tr th {\n",
       "        vertical-align: top;\n",
       "    }\n",
       "\n",
       "    .dataframe thead th {\n",
       "        text-align: right;\n",
       "    }\n",
       "</style>\n",
       "<table border=\"1\" class=\"dataframe\">\n",
       "  <thead>\n",
       "    <tr style=\"text-align: right;\">\n",
       "      <th></th>\n",
       "      <th>salary(in thousands)</th>\n",
       "    </tr>\n",
       "  </thead>\n",
       "  <tbody>\n",
       "    <tr>\n",
       "      <th>0</th>\n",
       "      <td>16.521825</td>\n",
       "    </tr>\n",
       "    <tr>\n",
       "      <th>1</th>\n",
       "      <td>11.666234</td>\n",
       "    </tr>\n",
       "    <tr>\n",
       "      <th>2</th>\n",
       "      <td>23.167255</td>\n",
       "    </tr>\n",
       "    <tr>\n",
       "      <th>3</th>\n",
       "      <td>20.877145</td>\n",
       "    </tr>\n",
       "    <tr>\n",
       "      <th>4</th>\n",
       "      <td>23.166236</td>\n",
       "    </tr>\n",
       "    <tr>\n",
       "      <th>...</th>\n",
       "      <td>...</td>\n",
       "    </tr>\n",
       "    <tr>\n",
       "      <th>995</th>\n",
       "      <td>24.666502</td>\n",
       "    </tr>\n",
       "    <tr>\n",
       "      <th>996</th>\n",
       "      <td>24.160270</td>\n",
       "    </tr>\n",
       "    <tr>\n",
       "      <th>997</th>\n",
       "      <td>19.903797</td>\n",
       "    </tr>\n",
       "    <tr>\n",
       "      <th>998</th>\n",
       "      <td>21.974413</td>\n",
       "    </tr>\n",
       "    <tr>\n",
       "      <th>999</th>\n",
       "      <td>19.634787</td>\n",
       "    </tr>\n",
       "  </tbody>\n",
       "</table>\n",
       "<p>1000 rows × 1 columns</p>\n",
       "</div>"
      ],
      "text/plain": [
       "     salary(in thousands)\n",
       "0               16.521825\n",
       "1               11.666234\n",
       "2               23.167255\n",
       "3               20.877145\n",
       "4               23.166236\n",
       "..                    ...\n",
       "995             24.666502\n",
       "996             24.160270\n",
       "997             19.903797\n",
       "998             21.974413\n",
       "999             19.634787\n",
       "\n",
       "[1000 rows x 1 columns]"
      ]
     },
     "execution_count": 124,
     "metadata": {},
     "output_type": "execute_result"
    }
   ],
   "source": [
    "y = df.iloc[:,-1:]\n",
    "y"
   ]
  },
  {
   "cell_type": "markdown",
   "id": "293186a6",
   "metadata": {},
   "source": [
    "# Splitting the Data between test and training"
   ]
  },
  {
   "cell_type": "code",
   "execution_count": 125,
   "id": "83d66a12",
   "metadata": {},
   "outputs": [
    {
     "name": "stdout",
     "output_type": "stream",
     "text": [
      "****************Training Data Shape********************\n",
      "\n",
      "Training data-X- Shape:\t (800, 1)\n",
      "\n",
      "Training data-y- Shape:\t (800, 1)\n",
      "\n",
      "****************Testing Data Shape********************\n",
      "\n",
      "Testing data(x-Input) Shape:\t (200, 1)\n",
      "\n",
      "Testing data(y-Outcome) Shape:\t (200, 1)\n"
     ]
    }
   ],
   "source": [
    "from sklearn.model_selection import train_test_split\n",
    "xtrain,xtest,ytrain,ytest=train_test_split(x,y,test_size=.2,random_state=2)\n",
    "print('****************Training Data Shape********************\\n')\n",
    "print('Training data-X- Shape:\\t',xtrain.shape)\n",
    "print()\n",
    "print('Training data-y- Shape:\\t',ytrain.shape)\n",
    "print()\n",
    "print('****************Testing Data Shape********************\\n')\n",
    "print('Testing data(x-Input) Shape:\\t',xtest.shape)\n",
    "print()\n",
    "print('Testing data(y-Outcome) Shape:\\t',ytest.shape)"
   ]
  },
  {
   "cell_type": "markdown",
   "id": "e183ee09",
   "metadata": {},
   "source": [
    "\n",
    "# Base Model\n",
    "# 1. Linear Regression Model"
   ]
  },
  {
   "cell_type": "code",
   "execution_count": 126,
   "id": "10d2097a",
   "metadata": {},
   "outputs": [
    {
     "name": "stdout",
     "output_type": "stream",
     "text": [
      "****************************************************************************************************\n",
      "Linear Regression Model\n",
      "****************************************************************************************************\n",
      "\n",
      " Training Phase\n",
      "Hyperparameter:\n",
      " {'copy_X': True, 'fit_intercept': True, 'n_jobs': None, 'positive': False}\n",
      "Training Completed\n",
      "====================================================================================================\n",
      "\n",
      " Test Phase\n",
      "\n",
      "Testing completed\n",
      "====================================================================================================\n",
      "****************************************************************************************************\n",
      "Linear Regression - Performance Measures\n",
      "****************************************************************************************************\n",
      "Accuracy Score - Linear Regression:\t 0.631252936419217\n",
      "\n",
      "MSE-linear Regression:\t 27.08513925796064\n",
      "\n",
      "RMSE linear Regression:\t 5.204338503398932\n"
     ]
    }
   ],
   "source": [
    "from sklearn.linear_model import LinearRegression\n",
    "lin_reg=LinearRegression()\n",
    "print('*'*100)\n",
    "print('Linear Regression Model')\n",
    "print('*'*100)\n",
    "print('\\n Training Phase')\n",
    "lin_reg.fit(xtrain,ytrain)\n",
    "print('Hyperparameter:\\n',lin_reg.get_params())\n",
    "print('Training Completed')\n",
    "print('='*100)\n",
    "print('\\n Test Phase')\n",
    "ypred_lin_reg=lin_reg.predict(xtest)\n",
    "#print('Predicted values for the test samples:\\n',ypred_lin_reg)\n",
    "print()\n",
    "print('Testing completed')\n",
    "print('='*100)\n",
    "#import metrics\n",
    "from sklearn.metrics import r2_score,mean_squared_error\n",
    "print('*'*100)\n",
    "print('Linear Regression - Performance Measures')\n",
    "print('*'*100)\n",
    "Accuracy_lin_reg=r2_score(ytest,ypred_lin_reg)\n",
    "MSE_lin_reg=mean_squared_error(ytest,ypred_lin_reg)\n",
    "RMSE_lin_reg=np.sqrt(mean_squared_error(ytest,ypred_lin_reg))\n",
    "print('Accuracy Score - Linear Regression:\\t',Accuracy_lin_reg)\n",
    "print()\n",
    "print('MSE-linear Regression:\\t',MSE_lin_reg)\n",
    "print()\n",
    "print('RMSE linear Regression:\\t',RMSE_lin_reg)\n"
   ]
  },
  {
   "cell_type": "markdown",
   "id": "03719364",
   "metadata": {},
   "source": [
    "# 2. KNN Regression"
   ]
  },
  {
   "cell_type": "code",
   "execution_count": 127,
   "id": "0f93e966",
   "metadata": {},
   "outputs": [
    {
     "name": "stdout",
     "output_type": "stream",
     "text": [
      "****************************************************************************************************\n",
      "KNN Regression Model\n",
      "****************************************************************************************************\n",
      "\n",
      " Training Phase\n",
      "Hyperparameter:\n",
      " {'algorithm': 'auto', 'leaf_size': 30, 'metric': 'minkowski', 'metric_params': None, 'n_jobs': None, 'n_neighbors': 3, 'p': 2, 'weights': 'uniform'}\n",
      "Training Completed\n",
      "====================================================================================================\n",
      "\n",
      " Test Phase\n",
      "\n",
      "Testing completed\n",
      "====================================================================================================\n",
      "****************************************************************************************************\n",
      "KNN Regression - Performance Measures\n",
      "****************************************************************************************************\n",
      "Accuracy Score - knn Regression:\t 0.5008188307934776\n",
      "\n",
      "MSE-knn Regression:\t 36.66576040394232\n",
      "\n",
      "RMSE knn Regression:\t 6.055225875550995\n"
     ]
    }
   ],
   "source": [
    "from sklearn.neighbors import KNeighborsRegressor\n",
    "knn_reg=KNeighborsRegressor(n_neighbors=3)\n",
    "print('*'*100)\n",
    "print('KNN Regression Model')\n",
    "print('*'*100)\n",
    "print('\\n Training Phase')\n",
    "knn_reg.fit(xtrain,ytrain)\n",
    "print('Hyperparameter:\\n',knn_reg.get_params())\n",
    "print('Training Completed')\n",
    "print('='*100)\n",
    "print('\\n Test Phase')\n",
    "ypred_knn=knn_reg.predict(xtest)\n",
    "#print('Predicted values for the test samples:\\n',ypred_lin_reg)\n",
    "print()\n",
    "print('Testing completed')\n",
    "print('='*100)\n",
    "#import metrics\n",
    "from sklearn.metrics import r2_score,mean_squared_error\n",
    "print('*'*100)\n",
    "print('KNN Regression - Performance Measures')\n",
    "print('*'*100)\n",
    "Accuracy_knn_reg=r2_score(ytest,ypred_knn)\n",
    "MSE_knn=mean_squared_error(ytest,ypred_knn)\n",
    "RMSE_knn=np.sqrt(mean_squared_error(ytest,ypred_knn))\n",
    "print('Accuracy Score - knn Regression:\\t',Accuracy_knn_reg)\n",
    "print()\n",
    "print('MSE-knn Regression:\\t',MSE_knn)\n",
    "print()\n",
    "print('RMSE knn Regression:\\t',RMSE_knn)"
   ]
  },
  {
   "cell_type": "markdown",
   "id": "2d4e3a55",
   "metadata": {},
   "source": [
    "# 3. Decision Tree Regression model"
   ]
  },
  {
   "cell_type": "code",
   "execution_count": 128,
   "id": "7a5bb7e5",
   "metadata": {},
   "outputs": [
    {
     "name": "stdout",
     "output_type": "stream",
     "text": [
      "****************************************************************************************************\n",
      "DT Regression Model\n",
      "****************************************************************************************************\n",
      "\n",
      " Training Phase\n",
      "Hyperparameter:\n",
      " {'ccp_alpha': 0.0, 'criterion': 'squared_error', 'max_depth': None, 'max_features': None, 'max_leaf_nodes': None, 'min_impurity_decrease': 0.0, 'min_samples_leaf': 1, 'min_samples_split': 2, 'min_weight_fraction_leaf': 0.0, 'random_state': None, 'splitter': 'best'}\n",
      "Training Completed\n",
      "====================================================================================================\n",
      "\n",
      " Test Phase\n",
      "\n",
      "Testing completed\n",
      "====================================================================================================\n",
      "****************************************************************************************************\n",
      "Linear Regression - Performance Measures\n",
      "****************************************************************************************************\n",
      "Accuracy Score - DT Regression:\t 0.24887831587392162\n",
      "\n",
      "MSE-DT Regression:\t 55.17124724105595\n",
      "\n",
      "RMSE DT Regression:\t 7.427735000729088\n"
     ]
    }
   ],
   "source": [
    "from sklearn.tree import DecisionTreeRegressor\n",
    "dt_reg=DecisionTreeRegressor()\n",
    "print('*'*100)\n",
    "print('DT Regression Model')\n",
    "print('*'*100)\n",
    "print('\\n Training Phase')\n",
    "dt_reg.fit(xtrain,ytrain)\n",
    "print('Hyperparameter:\\n',dt_reg.get_params())\n",
    "print('Training Completed')\n",
    "print('='*100)\n",
    "print('\\n Test Phase')\n",
    "ypred_dt_reg=dt_reg.predict(xtest)\n",
    "#print('Predicted values for the test samples:\\n',ypred_lin_reg)\n",
    "print()\n",
    "print('Testing completed')\n",
    "print('='*100)\n",
    "#import metrics\n",
    "from sklearn.metrics import r2_score,mean_squared_error\n",
    "print('*'*100)\n",
    "print('Linear Regression - Performance Measures')\n",
    "print('*'*100)\n",
    "Accuracy_dt_reg=r2_score(ytest,ypred_dt_reg)\n",
    "MSE_dt_reg=mean_squared_error(ytest,ypred_dt_reg)\n",
    "RMSE_dt_reg=np.sqrt(mean_squared_error(ytest,ypred_dt_reg))\n",
    "print('Accuracy Score - DT Regression:\\t',Accuracy_dt_reg)\n",
    "print()\n",
    "print('MSE-DT Regression:\\t',MSE_dt_reg)\n",
    "print()\n",
    "print('RMSE DT Regression:\\t',RMSE_dt_reg)"
   ]
  },
  {
   "cell_type": "markdown",
   "id": "5b9894ce",
   "metadata": {},
   "source": [
    "# 4. Support Vector Regressor"
   ]
  },
  {
   "cell_type": "code",
   "execution_count": 129,
   "id": "aae9f3ce",
   "metadata": {},
   "outputs": [
    {
     "name": "stdout",
     "output_type": "stream",
     "text": [
      "****************************************************************************************************\n",
      "SVR Regression Model\n",
      "****************************************************************************************************\n",
      "\n",
      " Training Phase\n",
      "Hyperparameter:\n",
      " {'C': 1.0, 'cache_size': 200, 'coef0': 0.0, 'degree': 3, 'epsilon': 0.1, 'gamma': 'scale', 'kernel': 'rbf', 'max_iter': -1, 'shrinking': True, 'tol': 0.001, 'verbose': False}\n",
      "Training Completed\n",
      "====================================================================================================\n",
      "\n",
      " Test Phase\n",
      "\n",
      "Testing completed\n",
      "====================================================================================================\n",
      "****************************************************************************************************\n",
      "SVR Regression - Performance Measures\n",
      "****************************************************************************************************\n",
      "Accuracy Score - SVR Regression:\t 0.6286847319885254\n",
      "\n",
      "MSE-SVR Regression:\t 27.273778521885124\n",
      "\n",
      "RMSE SVR Regression:\t 5.222430327145124\n"
     ]
    },
    {
     "name": "stderr",
     "output_type": "stream",
     "text": [
      "C:\\Users\\Charanteja\\anaconda3\\Lib\\site-packages\\sklearn\\utils\\validation.py:1183: DataConversionWarning: A column-vector y was passed when a 1d array was expected. Please change the shape of y to (n_samples, ), for example using ravel().\n",
      "  y = column_or_1d(y, warn=True)\n"
     ]
    }
   ],
   "source": [
    "from sklearn.svm import SVR\n",
    "svr=SVR()\n",
    "print('*'*100)\n",
    "print('SVR Regression Model')\n",
    "print('*'*100)\n",
    "print('\\n Training Phase')\n",
    "svr.fit(xtrain,ytrain)\n",
    "print('Hyperparameter:\\n',svr.get_params())\n",
    "print('Training Completed')\n",
    "print('='*100)\n",
    "print('\\n Test Phase')\n",
    "ypred_svr=svr.predict(xtest)\n",
    "#print('Predicted values for the test samples:\\n',ypred_lin_reg)\n",
    "print()\n",
    "print('Testing completed')\n",
    "print('='*100)\n",
    "#import metrics\n",
    "from sklearn.metrics import r2_score,mean_squared_error\n",
    "print('*'*100)\n",
    "print('SVR Regression - Performance Measures')\n",
    "print('*'*100)\n",
    "Accuracy_svr=r2_score(ytest,ypred_svr)\n",
    "MSE_svr=mean_squared_error(ytest,ypred_svr)\n",
    "RMSE_svr=np.sqrt(mean_squared_error(ytest,ypred_svr))\n",
    "print('Accuracy Score - SVR Regression:\\t',Accuracy_svr)\n",
    "print()\n",
    "print('MSE-SVR Regression:\\t',MSE_svr)\n",
    "print()\n",
    "print('RMSE SVR Regression:\\t',RMSE_svr)"
   ]
  },
  {
   "cell_type": "markdown",
   "id": "fe9aebeb",
   "metadata": {},
   "source": [
    "# 5.Boosting - Adaboost with the base model - Lin reg"
   ]
  },
  {
   "cell_type": "code",
   "execution_count": 130,
   "id": "52e4f61e",
   "metadata": {},
   "outputs": [
    {
     "name": "stdout",
     "output_type": "stream",
     "text": [
      "****************************************************************************************************\n",
      "AdaBoost Regression Model\n",
      "****************************************************************************************************\n",
      "\n",
      " Training Phase\n",
      "Hyperparameter:\n",
      " {'base_estimator__copy_X': True, 'base_estimator__fit_intercept': True, 'base_estimator__n_jobs': None, 'base_estimator__positive': False, 'base_estimator': LinearRegression(), 'estimator': None, 'learning_rate': 1.0, 'loss': 'linear', 'n_estimators': 15, 'random_state': None}\n",
      "Training Completed\n",
      "====================================================================================================\n",
      "\n",
      " Test Phase\n",
      "\n",
      "Testing completed\n",
      "====================================================================================================\n",
      "****************************************************************************************************\n",
      "Adaboost Regression - Performance Measures\n",
      "****************************************************************************************************\n",
      "Accuracy Score - Adaboost Regression:\t 0.6334949156433523\n",
      "\n",
      "MSE-Adaboost Regression:\t 26.920461825930445\n",
      "\n",
      "RMSE Adaboost Regression:\t 5.188493213441687\n"
     ]
    },
    {
     "name": "stderr",
     "output_type": "stream",
     "text": [
      "C:\\Users\\Charanteja\\anaconda3\\Lib\\site-packages\\sklearn\\utils\\validation.py:1183: DataConversionWarning: A column-vector y was passed when a 1d array was expected. Please change the shape of y to (n_samples, ), for example using ravel().\n",
      "  y = column_or_1d(y, warn=True)\n",
      "C:\\Users\\Charanteja\\anaconda3\\Lib\\site-packages\\sklearn\\ensemble\\_base.py:156: FutureWarning: `base_estimator` was renamed to `estimator` in version 1.2 and will be removed in 1.4.\n",
      "  warnings.warn(\n"
     ]
    }
   ],
   "source": [
    "from sklearn.ensemble import AdaBoostRegressor\n",
    "ada=AdaBoostRegressor(base_estimator=lin_reg,n_estimators=15)\n",
    "print('*'*100)\n",
    "print('AdaBoost Regression Model')\n",
    "print('*'*100)\n",
    "print('\\n Training Phase')\n",
    "ada.fit(xtrain,ytrain)\n",
    "print('Hyperparameter:\\n',ada.get_params())\n",
    "print('Training Completed')\n",
    "print('='*100)\n",
    "print('\\n Test Phase')\n",
    "ypred_ada=ada.predict(xtest)\n",
    "#print('Predicted values for the test samples:\\n',ypred_lin_reg)\n",
    "print()\n",
    "print('Testing completed')\n",
    "print('='*100)\n",
    "#import metrics\n",
    "from sklearn.metrics import r2_score,mean_squared_error\n",
    "print('*'*100)\n",
    "print('Adaboost Regression - Performance Measures')\n",
    "print('*'*100)\n",
    "Accuracy_ada=r2_score(ytest,ypred_ada)\n",
    "MSE_ada=mean_squared_error(ytest,ypred_ada)\n",
    "RMSE_ada=np.sqrt(mean_squared_error(ytest,ypred_ada))\n",
    "print('Accuracy Score - Adaboost Regression:\\t',Accuracy_ada)\n",
    "print()\n",
    "print('MSE-Adaboost Regression:\\t',MSE_ada)\n",
    "print()\n",
    "print('RMSE Adaboost Regression:\\t',RMSE_ada)"
   ]
  },
  {
   "cell_type": "markdown",
   "id": "fbb972a2",
   "metadata": {},
   "source": [
    "# 6. Boosting - GradientBoost"
   ]
  },
  {
   "cell_type": "code",
   "execution_count": 131,
   "id": "ff59026d",
   "metadata": {},
   "outputs": [
    {
     "name": "stdout",
     "output_type": "stream",
     "text": [
      "****************************************************************************************************\n",
      "GradientBoosting Regression Model\n",
      "****************************************************************************************************\n",
      "\n",
      " Training Phase\n",
      "Hyperparameter:\n",
      " {'alpha': 0.9, 'ccp_alpha': 0.0, 'criterion': 'friedman_mse', 'init': None, 'learning_rate': 0.1, 'loss': 'squared_error', 'max_depth': 3, 'max_features': None, 'max_leaf_nodes': None, 'min_impurity_decrease': 0.0, 'min_samples_leaf': 1, 'min_samples_split': 2, 'min_weight_fraction_leaf': 0.0, 'n_estimators': 15, 'n_iter_no_change': None, 'random_state': None, 'subsample': 1.0, 'tol': 0.0001, 'validation_fraction': 0.1, 'verbose': 0, 'warm_start': False}\n",
      "Training Completed\n",
      "====================================================================================================\n",
      "\n",
      " Test Phase\n",
      "\n",
      "Testing completed\n",
      "====================================================================================================\n",
      "****************************************************************************************************\n",
      "GradientBoosting Regression - Performance Measures\n",
      "****************************************************************************************************\n",
      "Accuracy Score - GradientBoosting Regression:\t 0.617108876343379\n",
      "\n",
      "MSE-GradientBoosting Regression:\t 28.12404607150089\n",
      "\n",
      "RMSE GradientBoosting Regression:\t 5.303210920895085\n"
     ]
    },
    {
     "name": "stderr",
     "output_type": "stream",
     "text": [
      "C:\\Users\\Charanteja\\anaconda3\\Lib\\site-packages\\sklearn\\ensemble\\_gb.py:424: DataConversionWarning: A column-vector y was passed when a 1d array was expected. Please change the shape of y to (n_samples, ), for example using ravel().\n",
      "  y = column_or_1d(y, warn=True)\n"
     ]
    }
   ],
   "source": [
    "from sklearn.ensemble import GradientBoostingRegressor\n",
    "grad_boost=GradientBoostingRegressor(n_estimators=15)\n",
    "print('*'*100)\n",
    "print('GradientBoosting Regression Model')\n",
    "print('*'*100)\n",
    "print('\\n Training Phase')\n",
    "grad_boost.fit(xtrain,ytrain)\n",
    "print('Hyperparameter:\\n',grad_boost.get_params())\n",
    "print('Training Completed')\n",
    "print('='*100)\n",
    "print('\\n Test Phase')\n",
    "ypred_grad_boost=grad_boost.predict(xtest)\n",
    "#print('Predicted values for the test samples:\\n',ypred_lin_reg)\n",
    "print()\n",
    "print('Testing completed')\n",
    "print('='*100)\n",
    "#import metrics\n",
    "from sklearn.metrics import r2_score,mean_squared_error\n",
    "print('*'*100)\n",
    "print('GradientBoosting Regression - Performance Measures')\n",
    "print('*'*100)\n",
    "Accuracy_grad_boost=r2_score(ytest,ypred_grad_boost)\n",
    "MSE_grad_boost=mean_squared_error(ytest,ypred_grad_boost)\n",
    "RMSE_grad_boost=np.sqrt(mean_squared_error(ytest,ypred_grad_boost))\n",
    "print('Accuracy Score - GradientBoosting Regression:\\t',Accuracy_grad_boost)\n",
    "print()\n",
    "print('MSE-GradientBoosting Regression:\\t',MSE_grad_boost)\n",
    "print()\n",
    "print('RMSE GradientBoosting Regression:\\t',RMSE_grad_boost)\n"
   ]
  },
  {
   "cell_type": "markdown",
   "id": "aae3d260",
   "metadata": {},
   "source": [
    "# Model with Accuracy scores"
   ]
  },
  {
   "cell_type": "code",
   "execution_count": 132,
   "id": "6b2be9b0",
   "metadata": {},
   "outputs": [
    {
     "name": "stdout",
     "output_type": "stream",
     "text": [
      "                      Model  Accuracy_score\n",
      "4        Adaboost Regressor        0.633495\n",
      "0         Linear Regression        0.631253\n",
      "3                       SVR        0.628685\n",
      "5  Gradient Boost Regressor        0.617109\n",
      "1            KNN Regression        0.500819\n",
      "2  Decision Tree Regression        0.248878\n"
     ]
    }
   ],
   "source": [
    "scores=[('Linear Regression',Accuracy_lin_reg),\n",
    " ('KNN Regression',Accuracy_knn_reg),\n",
    " ('Decision Tree Regression',Accuracy_dt_reg),\n",
    " ('SVR',Accuracy_svr),\n",
    " ('Adaboost Regressor',Accuracy_ada),\n",
    " ('Gradient Boost Regressor',Accuracy_grad_boost),\n",
    " \n",
    " ]\n",
    "Acc_scores=pd.DataFrame(scores,columns=['Model','Accuracy_score'])\n",
    "print(Acc_scores.sort_values(by='Accuracy_score',ascending=False))\n"
   ]
  },
  {
   "cell_type": "code",
   "execution_count": 133,
   "id": "6eeda6d0",
   "metadata": {},
   "outputs": [
    {
     "data": {
      "text/plain": [
       "([0, 1, 2, 3, 4, 5],\n",
       " [Text(0, 0, 'Linear Regression'),\n",
       "  Text(1, 0, 'KNN Regression'),\n",
       "  Text(2, 0, 'Decision Tree Regression'),\n",
       "  Text(3, 0, 'SVR'),\n",
       "  Text(4, 0, 'Adaboost Regressor'),\n",
       "  Text(5, 0, 'Gradient Boost Regressor')])"
      ]
     },
     "execution_count": 133,
     "metadata": {},
     "output_type": "execute_result"
    },
    {
     "data": {
      "image/png": "[encoded data removed]",
      "text/plain": [
       "<Figure size 640x480 with 1 Axes>"
      ]
     },
     "metadata": {},
     "output_type": "display_data"
    }
   ],
   "source": [
    "sns.lineplot(x=Acc_scores['Model'],y=Acc_scores['Accuracy_score'],data=Acc_scores)\n",
    "plt.xticks(rotation=90)"
   ]
  },
  {
   "cell_type": "code",
   "execution_count": null,
   "id": "faf2bce6",
   "metadata": {},
   "outputs": [],
   "source": []
  }
 ],
 "metadata": {
  "kernelspec": {
   "display_name": "Python 3 (ipykernel)",
   "language": "python",
   "name": "python3"
  },
  "language_info": {
   "codemirror_mode": {
    "name": "ipython",
    "version": 3
   },
   "file_extension": ".py",
   "mimetype": "text/x-python",
   "name": "python",
   "nbconvert_exporter": "python",
   "pygments_lexer": "ipython3",
   "version": "3.11.4"
  }
 },
 "nbformat": 4,
 "nbformat_minor": 5
}
