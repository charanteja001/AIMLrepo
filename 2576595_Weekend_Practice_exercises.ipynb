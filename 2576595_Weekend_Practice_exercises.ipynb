{
 "cells": [
  {
   "cell_type": "markdown",
   "id": "84f48452",
   "metadata": {},
   "source": [
    "# 2. Create a python function that checks if two given strings are anagrams of each other."
   ]
  },
  {
   "cell_type": "code",
   "execution_count": 8,
   "id": "c5bdc56b",
   "metadata": {},
   "outputs": [
    {
     "name": "stdout",
     "output_type": "stream",
     "text": [
      "String 1 :  mphasis\n",
      "String 2 :  samphis\n",
      "Both strings are anagrams for each other.\n"
     ]
    }
   ],
   "source": [
    "def anagram_check(str1, str2):  \n",
    "    if(sorted(str1)== sorted(str2)):  \n",
    "        print(\"Both strings are anagrams for each other.\")  \n",
    "    else:  \n",
    "        print(\"Both strings are not anagrams.\")  \n",
    "         \n",
    "str1 =\"mphasis\"  \n",
    "str2 =\"samphis\"  \n",
    "print( \"String 1 : \", str1 )  \n",
    "print( \"String 2 : \", str2 )  \n",
    "anagram_check(str1, str2)  "
   ]
  },
  {
   "cell_type": "markdown",
   "id": "12e3f966",
   "metadata": {},
   "source": [
    "# 6.Read a text file containing a list of names or numbers, sort the data, and write the sorted data back to a new file."
   ]
  },
  {
   "cell_type": "code",
   "execution_count": 10,
   "id": "3e617986",
   "metadata": {},
   "outputs": [
    {
     "name": "stdout",
     "output_type": "stream",
     "text": [
      "File sorted successfully!\n"
     ]
    }
   ],
   "source": [
    "def sort(input_filename, output_filename):\n",
    "    try:\n",
    "        with open(input_filename, 'r') as input_file:\n",
    "            data = input_file.readlines()\n",
    "\n",
    "        data.sort()\n",
    "\n",
    "        with open(output_filename, 'w') as output_file:\n",
    "            output_file.writelines(data)\n",
    "\n",
    "        print(\"File sorted successfully!\")\n",
    "\n",
    "    except Exception as e:\n",
    "        print(f\"Error: {e}\")\n",
    "\n",
    "input_filename = \"input.txt\"  \n",
    "output_filename = \"output.txt\"  \n",
    "sort(input_filename, output_filename)\n"
   ]
  },
  {
   "cell_type": "markdown",
   "id": "145fcd42",
   "metadata": {},
   "source": [
    "# 7. Write a Python script that compares two text files and identifies the differences between them, including added, modified, and deleted lines"
   ]
  },
  {
   "cell_type": "code",
   "execution_count": 12,
   "id": "b9d12861",
   "metadata": {},
   "outputs": [
    {
     "name": "stdout",
     "output_type": "stream",
     "text": [
      "Modified (Line 3):\n",
      "File 1: mahendra\n",
      "File 2: ganguly\n",
      "Modified (Line 4):\n",
      "File 1: sachin\n",
      "File 2: mahendra\n",
      "Modified (Line 5):\n",
      "File 1: sehwag\n",
      "File 2: sachin\n",
      "Modified (Line 6):\n",
      "File 1: abdevilliers\n",
      "File 2: sehwag\n",
      "Added in file2 (Line 7): chichu\n",
      "Added in file2 (Line 8): abdevilliers\n"
     ]
    }
   ],
   "source": [
    "def compare(File1, File2):\n",
    "    try:\n",
    "        with open(File1, 'r') as file1:\n",
    "            file1_lines = file1.readlines()\n",
    "\n",
    "        with open(File2, 'r') as file2:\n",
    "            file2_lines = file2.readlines()\n",
    "\n",
    "        line_number = 1\n",
    "        lines = max(len(file1_lines), len(file2_lines))\n",
    "\n",
    "        for i in range(lines):\n",
    "            if i >= len(file1_lines):\n",
    "                print(f\"Added in file2 (Line {line_number}): {file2_lines[i].strip()}\")\n",
    "            elif i >= len(file2_lines):\n",
    "                print(f\"Deleted in file2 (Line {line_number}): {file1_lines[i].strip()}\")\n",
    "            elif file1_lines[i] != file2_lines[i]:\n",
    "                print(f\"Modified (Line {line_number}):\")\n",
    "                print(f\"File 1: {file1_lines[i].strip()}\")\n",
    "                print(f\"File 2: {file2_lines[i].strip()}\")\n",
    "\n",
    "            line_number += 1\n",
    "\n",
    "    except Exception as e:\n",
    "        print(f\"Error: {e}\")\n",
    "\n",
    "\n",
    "File1 = \"input1.txt\" \n",
    "File2 = \"out.txt\"  \n",
    "\n",
    "compare(File1, File2)\n"
   ]
  },
  {
   "cell_type": "markdown",
   "id": "613cf630",
   "metadata": {},
   "source": [
    "# 8.Develop a Python program that compresses a large text file using a compression algorithm (e.g., gzip) and then decompresses it back to its original form."
   ]
  },
  {
   "cell_type": "code",
   "execution_count": 22,
   "id": "a0eaed37",
   "metadata": {},
   "outputs": [
    {
     "name": "stdout",
     "output_type": "stream",
     "text": [
      "File 'input.txt' compressed to 'com.gz' successfully.\n",
      "File 'com.gz' decompressed to 'dec.txt' successfully.\n"
     ]
    }
   ],
   "source": [
    "import gzip\n",
    "\n",
    "def compressed(inp, compress):\n",
    "    try:\n",
    "        with open(inp, 'rb') as input_file:\n",
    "            with gzip.open(compress, 'wb') as compressed_file:\n",
    "                compressed_file.write(input_file.read())\n",
    "\n",
    "        print(f\"File '{inp}' compressed to '{compress}' successfully.\")\n",
    "    except Exception as e:\n",
    "        print(f\"Error: {e}\")\n",
    "\n",
    "def decompressed(compress, decompress):\n",
    "    try:\n",
    "        with gzip.open(compress, 'rb') as compressed_file:\n",
    "            with open(decompress, 'wb') as decompressed_file:\n",
    "                decompressed_file.write(compressed_file.read())\n",
    "\n",
    "        print(f\"File '{compress}' decompressed to '{decompress}' successfully.\")\n",
    "\n",
    "    except Exception as e:\n",
    "        print(f\"Error: {e}\")\n",
    "\n",
    "inp = \"input.txt\"  \n",
    "compress = \"com.gz\"  \n",
    "decompress = \"dec.txt\"\n",
    "\n",
    "compressed(inp, compress)\n",
    "decompressed(compress, decompress)\n"
   ]
  },
  {
   "cell_type": "markdown",
   "id": "58c9d96e",
   "metadata": {},
   "source": [
    "# 9.read a binary file (e.g., an image or audio file) in Python and perform an operation, such as resizing an image or modifying audio data."
   ]
  },
  {
   "cell_type": "code",
   "execution_count": 23,
   "id": "b12537b6",
   "metadata": {},
   "outputs": [
    {
     "name": "stdout",
     "output_type": "stream",
     "text": [
      "Original size : (688, 430)\n"
     ]
    }
   ],
   "source": [
    "\n",
    "from PIL import Image\n",
    "\n",
    "image = Image.open('sun.jpg')\n",
    "print(f\"Original size : {image.size}\") \n",
    "\n",
    "sun_resized = image.resize((400, 400))\n",
    "sun_resized.save('sun1.jpeg')"
   ]
  },
  {
   "cell_type": "markdown",
   "id": "a3ff73e0",
   "metadata": {},
   "source": [
    "#  10.Write a python program to Combine the contents of multiple text files into a single file using Python. Each file should be appended to the end of the resulting file."
   ]
  },
  {
   "cell_type": "code",
   "execution_count": 24,
   "id": "d70f6ae9",
   "metadata": {},
   "outputs": [
    {
     "name": "stdout",
     "output_type": "stream",
     "text": [
      "success\n"
     ]
    }
   ],
   "source": [
    "file1 = open('file_6_1.txt','r')\n",
    "file2 = open('file_6_2.txt','r')\n",
    "file3 = open('file_6_3.txt','r')\n",
    "\n",
    "content1 = file1.read()\n",
    "content2 = file2.read()\n",
    "content3 = file3.read()\n",
    "print(\"success\")\n",
    "\n",
    "mixed = open('mix_file.txt','w')\n",
    "mixed.write(content1+content2+content3)\n",
    "mixed.close()\n"
   ]
  },
  {
   "cell_type": "markdown",
   "id": "541a8d0e",
   "metadata": {},
   "source": [
    "#  11. Create a Python script that accepts a text file as a command line argument and counts the number of words, lines, and characters in the file."
   ]
  },
  {
   "cell_type": "code",
   "execution_count": null,
   "id": "8853b373",
   "metadata": {},
   "outputs": [],
   "source": []
  }
 ],
 "metadata": {
  "kernelspec": {
   "display_name": "Python 3 (ipykernel)",
   "language": "python",
   "name": "python3"
  },
  "language_info": {
   "codemirror_mode": {
    "name": "ipython",
    "version": 3
   },
   "file_extension": ".py",
   "mimetype": "text/x-python",
   "name": "python",
   "nbconvert_exporter": "python",
   "pygments_lexer": "ipython3",
   "version": "3.11.4"
  }
 },
 "nbformat": 4,
 "nbformat_minor": 5
}
