{
 "cells": [
  {
   "cell_type": "markdown",
   "id": "f0d69cee",
   "metadata": {},
   "source": [
    "# 1.write a python function that copies a file reading and writing upto 50 characters at a time"
   ]
  },
  {
   "cell_type": "code",
   "execution_count": 60,
   "id": "866f772c",
   "metadata": {},
   "outputs": [
    {
     "name": "stdout",
     "output_type": "stream",
     "text": [
      "50 Characters have been added\n"
     ]
    }
   ],
   "source": [
    "with open('file1.txt', \"r\") as file:\n",
    "        content = file.read(50)\n",
    "\n",
    "with open('out.txt', \"w\") as output:\n",
    "        output.write(content)\n",
    "        \n",
    "print(\"50 Characters have been added\")"
   ]
  },
  {
   "cell_type": "markdown",
   "id": "d69bcea5",
   "metadata": {},
   "source": [
    "# 2.Print all the numbers present in the text file and number of spaces present in the file"
   ]
  },
  {
   "cell_type": "code",
   "execution_count": 65,
   "id": "4c05023f",
   "metadata": {},
   "outputs": [
    {
     "name": "stdout",
     "output_type": "stream",
     "text": [
      "Numbers found: ['1', '4', '8', '9', '9', '4', '5', '6']\n",
      "Total numbers found in the file: 8\n",
      "Count of blank spaces: 146\n"
     ]
    }
   ],
   "source": [
    "with open('file1.txt',\"r\") as file:\n",
    "    num_count = 0\n",
    "    space_count = 0\n",
    "\n",
    "    numbers_found = []\n",
    "    \n",
    "    for line in file:\n",
    "            for char in line:\n",
    "                if char.isdigit():\n",
    "                    numbers_found.append(char)\n",
    "                    num_count += 1\n",
    "                elif char.isspace():\n",
    "                    space_count += 1\n",
    "    print(\"Numbers found:\", numbers_found)\n",
    "    print(\"Total numbers found in the file:\",num_count)\n",
    "    print(\"Count of blank spaces:\", space_count)\n",
    "\n"
   ]
  },
  {
   "cell_type": "markdown",
   "id": "b72941f4",
   "metadata": {},
   "source": [
    "# 3.Write a function called sed that takes as arguments a pattern string, a replacement string, and two filenames; it should read the first file and write the contents into the second file (creating it if necessary). If the pattern string appears anywhere in the file, it should be replaced with the replacement string. If an error occurs while opening, reading, writing, or closing files, your program should catch the exception, print an error message, and exit"
   ]
  },
  {
   "cell_type": "code",
   "execution_count": 93,
   "id": "3ff2a2e7",
   "metadata": {},
   "outputs": [
    {
     "name": "stdout",
     "output_type": "stream",
     "text": [
      "Enter the pattern :enigmatic\n",
      "Enter the replacement :ENIGmatic\n",
      "success\n"
     ]
    }
   ],
   "source": [
    "inp = \"input.txt\"\n",
    "out = \"output.txt\"\n",
    "\n",
    "\n",
    "def sed(pattern, replacement, inp, out):\n",
    "    with open(inp, 'r') as inpfile:\n",
    "        content = inpfile.read()\n",
    "\n",
    "        new_content = content.replace(pattern, replacement)\n",
    "        with open(out, 'w') as outfile:\n",
    "            outfile.write(new_content)\n",
    "\n",
    "        print(\"success\")\n",
    "\n",
    "pattern = input(\"Enter the pattern :\")\n",
    "replacement = input(\"Enter the replacement :\")\n",
    "sed(pattern, replacement, inp, out)\n"
   ]
  },
  {
   "cell_type": "markdown",
   "id": "7c2eff1e",
   "metadata": {},
   "source": [
    "# 4.Log File Analysis: You have a log file containing records of user activities on a website. Each line in the file represents a log entry with details like timestamp, user ID, and action performed. Your task is to analyze this log file.\n"
   ]
  },
  {
   "cell_type": "markdown",
   "id": "03070af7",
   "metadata": {},
   "source": [
    "# 5. Text File Search and Replace: You have a text file with a large amount of text, and you want to search for specific words or phrases and replace them with new content.\n",
    "\n",
    "a. Write Python code to search for and replace text within a text file.\n",
    "\n",
    "b. How would you handle cases where you need to perform multiple replacements in a single pass?"
   ]
  },
  {
   "cell_type": "code",
   "execution_count": 105,
   "id": "64ed9378",
   "metadata": {},
   "outputs": [
    {
     "name": "stdout",
     "output_type": "stream",
     "text": [
      "Enter patterns separated by spaces: enigmatic Swede football\n",
      "Enter replacements separated by spaces: Enigmatic Sweden SOCCER\n",
      "Success\n",
      "Success\n",
      "Success\n"
     ]
    }
   ],
   "source": [
    "def des(search, replace, inp, out):\n",
    "    with open(inp, 'r') as inpfile:\n",
    "        content = inpfile.read()\n",
    "        for search, replace in zip(search,replace):\n",
    "            content = content.replace(search,replace)\n",
    "            \n",
    "            with open(out, 'w') as outfile:\n",
    "                outfile.write(content)\n",
    "            print(\"Success\")\n",
    "\n",
    "patterns = input(\"Enter patterns separated by spaces: \").split()\n",
    "replacements = input(\"Enter replacements separated by spaces: \").split()\n",
    "inp = \"input.txt\"\n",
    "out = \"output.txt\"\n",
    "\n",
    "\n",
    "des(patterns, replacements, inp, out)\n"
   ]
  },
  {
   "cell_type": "markdown",
   "id": "502b66bc",
   "metadata": {},
   "source": [
    "# 6. Write a Python script that concatenates the contents of multiple text files into a single output file. Allow the user to specify the input files and the output file."
   ]
  },
  {
   "cell_type": "code",
   "execution_count": 125,
   "id": "15d2e6fd",
   "metadata": {},
   "outputs": [
    {
     "name": "stdout",
     "output_type": "stream",
     "text": [
      "success\n"
     ]
    }
   ],
   "source": [
    "file1 = open('file_6_1.txt','r')\n",
    "file2 = open('file_6_2.txt','r')\n",
    "file3 = open('file_6_3.txt','r')\n",
    "\n",
    "content1 = file1.read()\n",
    "content2 = file2.read()\n",
    "content3 = file3.read()\n",
    "print(\"success\")\n",
    "\n",
    "mixed = open('mix_file.txt','w')\n",
    "mixed.write(content1+content2+content3)\n",
    "mixed.close()\n"
   ]
  },
  {
   "cell_type": "markdown",
   "id": "7581b0b0",
   "metadata": {},
   "source": [
    "# 7. You are given a text file named input.txt containing a list of words, one word per line. Your task is to create a Python program that reads the contents of input.txt, processes the words, and writes the result to an output file named output.txt.\n",
    "\n",
    "a. The program should perform the following operations:\n",
    "\n",
    "i. Read the words from input.txt.\n",
    "\n",
    "ii. For each word in the input file, calculate the length of the word and store it\n",
    "\n",
    "in a dictionary where the word is the key, and the length is the value.\n",
    "\n",
    "iii. Write the word-length dictionary to output.txt in the following format:\n",
    "\n",
    "Word1: Lengthi\n",
    "\n",
    "Word2: Length2\n",
    "\n",
    "iv. Close both input and output files properly.\n",
    "\n",
    "v. Write Python code to accomplish this task. Ensure proper error handling for file operations."
   ]
  },
  {
   "cell_type": "code",
   "execution_count": 122,
   "id": "364d918b",
   "metadata": {},
   "outputs": [
    {
     "name": "stdout",
     "output_type": "stream",
     "text": [
      "success\n"
     ]
    }
   ],
   "source": [
    "try:\n",
    "    with open(\"input1.txt\", \"r\") as f:\n",
    "        with open(\"output1.txt\", \"w\") as o:\n",
    "            for line in f:\n",
    "                words = line.split() \n",
    "                for word in words:\n",
    "                    word_length = len(word)\n",
    "                    o.write(f\"{word} : {word_length}\\n\")\n",
    "    print(\"success\")\n",
    "\n",
    "except FileNotFoundError:\n",
    "    print(\"Input file 'input1.txt' not found.\")\n",
    "except Exception as e:\n",
    "    print(f\"An error occurred: {str(e)}\")\n"
   ]
  },
  {
   "cell_type": "code",
   "execution_count": null,
   "id": "d3035b5d",
   "metadata": {},
   "outputs": [],
   "source": []
  }
 ],
 "metadata": {
  "kernelspec": {
   "display_name": "Python 3 (ipykernel)",
   "language": "python",
   "name": "python3"
  },
  "language_info": {
   "codemirror_mode": {
    "name": "ipython",
    "version": 3
   },
   "file_extension": ".py",
   "mimetype": "text/x-python",
   "name": "python",
   "nbconvert_exporter": "python",
   "pygments_lexer": "ipython3",
   "version": "3.11.4"
  }
 },
 "nbformat": 4,
 "nbformat_minor": 5
}
