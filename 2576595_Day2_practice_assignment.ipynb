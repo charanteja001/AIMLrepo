{
 "cells": [
  {
   "cell_type": "markdown",
   "id": "cf082a35",
   "metadata": {},
   "source": [
    "# 1.Write a python function to list even and odd numbers in a list."
   ]
  },
  {
   "cell_type": "code",
   "execution_count": 12,
   "id": "04cd2664",
   "metadata": {},
   "outputs": [
    {
     "name": "stdout",
     "output_type": "stream",
     "text": [
      "Even numbers : [22, 36, 4, 54, 82]\n",
      "Odd numbers : [11, 63, 77, 99, 103]\n"
     ]
    }
   ],
   "source": [
    "list1=[11,22,36,4,54,63,77,82,99,103]\n",
    "    \n",
    "def even_odd():\n",
    "    even = []\n",
    "    odd = []\n",
    "   \n",
    "\n",
    "    for i in list1:\n",
    "        if i%2==0:\n",
    "            even.append(i)\n",
    "        else :\n",
    "            odd.append(i)\n",
    "    print('Even numbers :',even)\n",
    "    print('Odd numbers :',odd)\n",
    "even_odd()\n"
   ]
  },
  {
   "cell_type": "markdown",
   "id": "6c44f4bd",
   "metadata": {},
   "source": [
    "# 2.Python program that asks user to eneter 8 numbers and print how many even numbers are there in it"
   ]
  },
  {
   "cell_type": "code",
   "execution_count": 29,
   "id": "b026a480",
   "metadata": {},
   "outputs": [
    {
     "name": "stdout",
     "output_type": "stream",
     "text": [
      "Enter 8 integers :6 5 8 7 4 9 2 \n",
      "The number of even integers are : 4\n"
     ]
    }
   ],
   "source": [
    "num = input(\"Enter 8 integers :\")\n",
    "\n",
    "numbers = [int(x) for x in num.split()]\n",
    "count = 0\n",
    "for num in numbers:\n",
    "    if num%2 == 0:\n",
    "        count += 1\n",
    "print('The number of even integers are :',count)"
   ]
  },
  {
   "cell_type": "markdown",
   "id": "4ffe306b",
   "metadata": {},
   "source": [
    "# 3. Division for even number and multiplication for odd number"
   ]
  },
  {
   "cell_type": "code",
   "execution_count": 33,
   "id": "ea57c0fa",
   "metadata": {},
   "outputs": [
    {
     "name": "stdout",
     "output_type": "stream",
     "text": [
      "enter a number :9\n",
      "28\n"
     ]
    }
   ],
   "source": [
    "n = int(input(\"enter a number :\"))\n",
    "\n",
    "if n%2 == 0:\n",
    "    n = n//2\n",
    "    print(n)\n",
    "else:\n",
    "    n = 3 * n + 1\n",
    "    print(n)\n",
    "\n",
    "    "
   ]
  },
  {
   "cell_type": "markdown",
   "id": "ab6fc112",
   "metadata": {},
   "source": [
    "# 4. Sum of all multiples of 3 and 5 below 500"
   ]
  },
  {
   "cell_type": "code",
   "execution_count": 38,
   "id": "d024c155",
   "metadata": {},
   "outputs": [
    {
     "name": "stdout",
     "output_type": "stream",
     "text": [
      " The sum is :  57918\n"
     ]
    }
   ],
   "source": [
    "total = 0\n",
    "for num in range(1,500):\n",
    "    if num % 3 == 0 or num % 5 == 0:\n",
    "        total = total+num\n",
    "print(\" The sum is : \",total)"
   ]
  },
  {
   "cell_type": "markdown",
   "id": "0c69d3b0",
   "metadata": {},
   "source": [
    "# 5.Prime numbers in the given list"
   ]
  },
  {
   "cell_type": "code",
   "execution_count": 45,
   "id": "b692413a",
   "metadata": {},
   "outputs": [
    {
     "name": "stdout",
     "output_type": "stream",
     "text": [
      "[23, 11, 73, 67, 7]\n"
     ]
    }
   ],
   "source": [
    "list2 = [23,56,34,11,73,45,67,7]\n",
    "prime=[]\n",
    "    \n",
    "for i in list2:\n",
    "    count = 0\n",
    "    for j in range(1,i):\n",
    "        if i%j == 0:\n",
    "            count +=1\n",
    "    if count == 1:\n",
    "        prime.append(i)\n",
    "print(prime)\n",
    "            "
   ]
  },
  {
   "cell_type": "markdown",
   "id": "5429fdd4",
   "metadata": {},
   "source": [
    "# 6.Matrix Multiplication"
   ]
  },
  {
   "cell_type": "code",
   "execution_count": null,
   "id": "7b7f9493",
   "metadata": {},
   "outputs": [],
   "source": []
  },
  {
   "cell_type": "markdown",
   "id": "1ff30c5a",
   "metadata": {},
   "source": [
    "# 7.To count the number of vowels in a string"
   ]
  },
  {
   "cell_type": "code",
   "execution_count": 58,
   "id": "7d64847c",
   "metadata": {},
   "outputs": [
    {
     "name": "stdout",
     "output_type": "stream",
     "text": [
      "Number of vowels in the given string is:  6\n"
     ]
    }
   ],
   "source": [
    "str1 = \" Inida is my country\"\n",
    "count = 0\n",
    "vowels = [\"a\", \"e\", \"i\", \"o\", \"u\", \"A\", \"E\", \"I\", \"O\", \"U\"]\n",
    "for i in range(len(str1)):\n",
    "    if str1[i] in vowels:\n",
    "        count += 1\n",
    "\n",
    "print(\"Number of vowels in the given string is: \", count)\n"
   ]
  },
  {
   "cell_type": "markdown",
   "id": "382bf7ed",
   "metadata": {},
   "source": [
    "# 8.Factorial for given number using recursive function\n"
   ]
  },
  {
   "cell_type": "code",
   "execution_count": 79,
   "id": "4a9ace2a",
   "metadata": {},
   "outputs": [
    {
     "name": "stdout",
     "output_type": "stream",
     "text": [
      "Enter the number :5\n",
      "Factorial of 5 is  120\n"
     ]
    }
   ],
   "source": [
    "def fact(n):  \n",
    "    return 1 if (n==1 or n==0) else n * fact(n - 1);  \n",
    "  \n",
    "num = int(input(\"Enter the number :\"))  \n",
    "print(\"Factorial of\",num,\"is \",fact(num) )  \n",
    "\n"
   ]
  },
  {
   "cell_type": "markdown",
   "id": "d210c788",
   "metadata": {},
   "source": [
    "# 9.Fibonacci series using function"
   ]
  },
  {
   "cell_type": "code",
   "execution_count": 12,
   "id": "0e1a9b87",
   "metadata": {},
   "outputs": [
    {
     "name": "stdout",
     "output_type": "stream",
     "text": [
      "Enter the number of terms for the Fibonacci series: 0\n",
      "Fibonacci series up to 0 terms: [0]\n"
     ]
    }
   ],
   "source": [
    "def fibonacci(n):\n",
    "    fibonacci_series = []\n",
    "    a,b = 0,1\n",
    " \n",
    "    if n <= 1:\n",
    "        return [0]\n",
    "   \n",
    "\n",
    "    for i in range(n):\n",
    "        fibonacci_series.append(a)\n",
    "        a, b = b, a + b\n",
    "    \n",
    "    return fibonacci_series\n",
    "\n",
    "n = int(input(\"Enter the number of terms for the Fibonacci series: \"))\n",
    "result = fibonacci(n)\n",
    "print(\"Fibonacci series up to\", n, \"terms:\", result)"
   ]
  },
  {
   "cell_type": "markdown",
   "id": "7f82f391",
   "metadata": {},
   "source": [
    "# 10.Python function to display the integer in reverse order using function without an in-built function"
   ]
  },
  {
   "cell_type": "code",
   "execution_count": 24,
   "id": "97788828",
   "metadata": {},
   "outputs": [
    {
     "name": "stdout",
     "output_type": "stream",
     "text": [
      "enter the number : 564\n",
      "Reversed number :  465\n"
     ]
    }
   ],
   "source": [
    "n = int(input(\"enter the number : \"))\n",
    "reverse = 0\n",
    "while n>0:\n",
    "    s = n % 10\n",
    "    reverse = reverse*10 + s\n",
    "    n = n // 10\n",
    "\n",
    "print(\"Reversed number : \" ,reverse)  "
   ]
  },
  {
   "cell_type": "markdown",
   "id": "37ecd78a",
   "metadata": {},
   "source": [
    "# 11. Function to display all integers within the range 200-300 whose sum of the digits is an even number\n",
    "\n"
   ]
  },
  {
   "cell_type": "code",
   "execution_count": 30,
   "id": "ab9c9d06",
   "metadata": {},
   "outputs": [
    {
     "name": "stdout",
     "output_type": "stream",
     "text": [
      "200\n",
      "202\n",
      "204\n",
      "206\n",
      "208\n",
      "220\n",
      "222\n",
      "224\n",
      "226\n",
      "228\n",
      "240\n",
      "242\n",
      "244\n",
      "246\n",
      "248\n",
      "260\n",
      "262\n",
      "264\n",
      "266\n",
      "268\n",
      "280\n",
      "282\n",
      "284\n",
      "286\n",
      "288\n"
     ]
    }
   ],
   "source": [
    "def sort(num):\n",
    "    digsum = sum(int(digit) for digit in str(num))\n",
    "    return digsum % 2 == 0\n",
    "    \n",
    "\n",
    "def even():\n",
    "    for num in range(200, 301):\n",
    "        if num % 2 == 0 and sort(num):\n",
    "            print(num)\n",
    "\n",
    "even()\n",
    "\n"
   ]
  },
  {
   "cell_type": "markdown",
   "id": "ee966815",
   "metadata": {},
   "source": [
    "# 12.Write a function to find the number of digits and sum of digits for a  given number"
   ]
  },
  {
   "cell_type": "code",
   "execution_count": 33,
   "id": "6af6a5ac",
   "metadata": {},
   "outputs": [
    {
     "name": "stdout",
     "output_type": "stream",
     "text": [
      "enter the number : 345\n",
      "The number of digits for the given number : 3\n",
      "The sum of the digits : 12\n"
     ]
    }
   ],
   "source": [
    "n = input(\"enter the number : \")\n",
    "sum1 = sum(int(digit) for digit in str(n))\n",
    "print(\"The number of digits for the given number :\",len(n))\n",
    "print( \"The sum of the digits :\",sum1)"
   ]
  },
  {
   "cell_type": "code",
   "execution_count": null,
   "id": "0c2365ea",
   "metadata": {},
   "outputs": [],
   "source": []
  }
 ],
 "metadata": {
  "kernelspec": {
   "display_name": "Python 3 (ipykernel)",
   "language": "python",
   "name": "python3"
  },
  "language_info": {
   "codemirror_mode": {
    "name": "ipython",
    "version": 3
   },
   "file_extension": ".py",
   "mimetype": "text/x-python",
   "name": "python",
   "nbconvert_exporter": "python",
   "pygments_lexer": "ipython3",
   "version": "3.11.4"
  }
 },
 "nbformat": 4,
 "nbformat_minor": 5
}
