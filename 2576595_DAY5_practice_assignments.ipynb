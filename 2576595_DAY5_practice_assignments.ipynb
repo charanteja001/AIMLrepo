{
 "cells": [
  {
   "cell_type": "code",
   "execution_count": 1,
   "id": "79150d92",
   "metadata": {},
   "outputs": [
    {
     "name": "stdout",
     "output_type": "stream",
     "text": [
      "<mysql.connector.connection_cext.CMySQLConnection object at 0x000001A3F18649D0>\n"
     ]
    }
   ],
   "source": [
    "import mysql.connector\n",
    "conn = mysql.connector.connect(user = 'root',\n",
    "                              password = '444@Charanteja',\n",
    "                              host = '127.0.0.1',\n",
    "                              database = 'inventory'\n",
    "                             )\n",
    "print(conn)\n"
   ]
  },
  {
   "cell_type": "code",
   "execution_count": 2,
   "id": "11e100e1",
   "metadata": {},
   "outputs": [],
   "source": [
    "curs = conn.cursor()"
   ]
  },
  {
   "cell_type": "code",
   "execution_count": 3,
   "id": "5e1d0884",
   "metadata": {},
   "outputs": [
    {
     "data": {
      "text/plain": [
       "<mysql.connector.cursor_cext.CMySQLCursor at 0x1a3f1a6ff90>"
      ]
     },
     "execution_count": 3,
     "metadata": {},
     "output_type": "execute_result"
    }
   ],
   "source": [
    "curs"
   ]
  },
  {
   "cell_type": "code",
   "execution_count": 4,
   "id": "9e2b49bc",
   "metadata": {},
   "outputs": [
    {
     "name": "stdout",
     "output_type": "stream",
     "text": [
      "('customer',)\n",
      "('information_schema',)\n",
      "('inventory',)\n",
      "('mysql',)\n",
      "('performance_schema',)\n",
      "('sys',)\n"
     ]
    }
   ],
   "source": [
    "curs = conn.cursor()\n",
    "curs.execute(\"show databases\")\n",
    "for i in curs:\n",
    "    print(i)"
   ]
  },
  {
   "cell_type": "markdown",
   "id": "81409655",
   "metadata": {},
   "source": [
    "# 1.Implement Inventory Management in Python with MySQL\n",
    "\n",
    "a) Inventory management, a critical element of the supply chain, is the tracking of inventory from manufacturers to warehouses and from these facilities to a point of sale. The goal of inventory management is to have the right products in the right place at the right time.\n",
    "\n",
    "b) The required Database is Inventory, and the required Tables are Purchases, Sales and Inventory\n",
    "\n",
    "c) Note: Apply your thoughts to demonstrate the DB Operation in Python."
   ]
  },
  {
   "cell_type": "code",
   "execution_count": null,
   "id": "abe630e0",
   "metadata": {},
   "outputs": [],
   "source": [
    "curs.execute(\"use inventory\")\n"
   ]
  },
  {
   "cell_type": "code",
   "execution_count": null,
   "id": "0d11cf26",
   "metadata": {},
   "outputs": [],
   "source": [
    "purchases_table = '''\n",
    "                 create table purchases(id INT AUTO_INCREMENT PRIMARY KEY,\n",
    "    product_name VARCHAR(20),\n",
    "    quantity INT,\n",
    "    price INT)'''\n",
    "curs.execute(purchases_table)"
   ]
  },
  {
   "cell_type": "code",
   "execution_count": 21,
   "id": "5fe7a206",
   "metadata": {},
   "outputs": [],
   "source": [
    "sales_table = '''\n",
    "                 create table sales(id INT AUTO_INCREMENT PRIMARY KEY,\n",
    "    sale_name VARCHAR(20),\n",
    "    quantity INT,\n",
    "    price INT)'''\n",
    "curs.execute(sales_table)"
   ]
  },
  {
   "cell_type": "code",
   "execution_count": 22,
   "id": "a6c16627",
   "metadata": {},
   "outputs": [],
   "source": [
    "inventory_table = '''\n",
    "                 create table inventory(id INT AUTO_INCREMENT PRIMARY KEY,\n",
    "    inventory_name VARCHAR(20),\n",
    "    quantity INT,\n",
    "    price INT)'''\n",
    "curs.execute(inventory_table)"
   ]
  },
  {
   "cell_type": "code",
   "execution_count": 14,
   "id": "ffcce180",
   "metadata": {},
   "outputs": [
    {
     "name": "stdout",
     "output_type": "stream",
     "text": [
      "('inventory',)\n",
      "('purchases',)\n",
      "('sales',)\n"
     ]
    }
   ],
   "source": [
    "curs.execute('show tables')\n",
    "for i in curs:\n",
    "    print(i)"
   ]
  },
  {
   "cell_type": "code",
   "execution_count": 15,
   "id": "b1912d0b",
   "metadata": {},
   "outputs": [
    {
     "name": "stdout",
     "output_type": "stream",
     "text": [
      "5 rows are inserted\n"
     ]
    }
   ],
   "source": [
    "pur_insert =\" insert into purchases(product_name,quantity,price) values (%s,%s,%s)\"\n",
    "pur_val = [('laptop',20,1000),\n",
    "           ('mobile',30,800),\n",
    "           ('mouse',40,300),\n",
    "           ('keyboard',15,400),\n",
    "           ('printer',10,700)]\n",
    "curs.executemany(pur_insert,pur_val)\n",
    "conn.commit()\n",
    "print(curs.rowcount,'rows are inserted')"
   ]
  },
  {
   "cell_type": "code",
   "execution_count": 17,
   "id": "8aea68b1",
   "metadata": {},
   "outputs": [
    {
     "name": "stdout",
     "output_type": "stream",
     "text": [
      "5 rows are inserted\n"
     ]
    }
   ],
   "source": [
    "sal_insert =\" insert into sales(sale_name,quantity,price) values (%s,%s,%s)\"\n",
    "sal_val = [('laptop',5,1000),\n",
    "           ('mobile',12,800),\n",
    "           ('mouse',23,300),\n",
    "           ('keyboard',8,400),\n",
    "           ('printer',7,700)]\n",
    "curs.executemany(sal_insert,sal_val)\n",
    "conn.commit()\n",
    "print(curs.rowcount,'rows are inserted')"
   ]
  },
  {
   "cell_type": "code",
   "execution_count": 23,
   "id": "6566c995",
   "metadata": {},
   "outputs": [
    {
     "name": "stdout",
     "output_type": "stream",
     "text": [
      "5 rows are inserted\n"
     ]
    }
   ],
   "source": [
    "inv_insert =\" insert into inventory(inventory_name,quantity,price) values (%s,%s,%s)\"\n",
    "inv_val = [('laptop',15,1000),\n",
    "           ('mobile',18,800),\n",
    "           ('mouse',17,300),\n",
    "           ('keyboard',7,400),\n",
    "           ('printer',3,700)]\n",
    "curs.executemany(inv_insert,inv_val)\n",
    "conn.commit()\n",
    "print(curs.rowcount,'rows are inserted')"
   ]
  },
  {
   "cell_type": "code",
   "execution_count": 20,
   "id": "dfa9166f",
   "metadata": {},
   "outputs": [
    {
     "name": "stdout",
     "output_type": "stream",
     "text": [
      "(1, 'laptop', 20, 1000)\n",
      "(2, 'mobile', 30, 800)\n",
      "(3, 'mouse', 40, 300)\n",
      "(4, 'keyboard', 15, 400)\n",
      "(5, 'printer', 10, 700)\n"
     ]
    }
   ],
   "source": [
    "curs.execute(\"select * from purchases\")\n",
    "for i in curs:\n",
    "    print(i)\n"
   ]
  },
  {
   "cell_type": "code",
   "execution_count": 21,
   "id": "6e0e7900",
   "metadata": {},
   "outputs": [
    {
     "name": "stdout",
     "output_type": "stream",
     "text": [
      "(1, 'laptop', 5, 1000)\n",
      "(2, 'mobile', 12, 800)\n",
      "(3, 'mouse', 23, 300)\n",
      "(4, 'keyboard', 8, 400)\n",
      "(5, 'printer', 7, 700)\n"
     ]
    }
   ],
   "source": [
    "curs.execute(\"select * from sales\")\n",
    "for i in curs:\n",
    "    print(i)\n"
   ]
  },
  {
   "cell_type": "code",
   "execution_count": 24,
   "id": "45a161f4",
   "metadata": {},
   "outputs": [
    {
     "name": "stdout",
     "output_type": "stream",
     "text": [
      "(1, 'laptop', 15, 1000)\n",
      "(2, 'mobile', 18, 800)\n",
      "(3, 'mouse', 17, 300)\n",
      "(4, 'keyboard', 7, 400)\n",
      "(5, 'printer', 3, 700)\n"
     ]
    }
   ],
   "source": [
    "curs.execute(\"select * from inventory\")\n",
    "for i in curs:\n",
    "    print(i)\n"
   ]
  },
  {
   "cell_type": "markdown",
   "id": "00c2fd30",
   "metadata": {},
   "source": [
    "# 2. Customer Order Processing\n",
    "\n",
    "Scenario: You are building a customer order processing system for an e-commerce company. The system needs to interact with a MySQL database to store customer orders, products, and order details.\n",
    "\n",
    "1. Design a MySQL database schema for the order processing system, including tables for customers, products, and orders.\n",
    "\n",
    "2. Write a Python program that connects to the database and allows customers to place new orders.\n",
    "\n",
    "3. Implement a feature that calculates the total cost of an order and updates product quantities in the database.\n",
    "\n",
    "4. How would you handle cases where a product is no longer available when a customer places an order?\n",
    "\n",
    "5. Develop a function to generate order reports for the company's finance department."
   ]
  },
  {
   "cell_type": "code",
   "execution_count": 25,
   "id": "71cd758f",
   "metadata": {},
   "outputs": [],
   "source": [
    "sql = 'create database customer'\n",
    "curs.execute(sql)"
   ]
  },
  {
   "cell_type": "code",
   "execution_count": 26,
   "id": "3ea3d711",
   "metadata": {},
   "outputs": [
    {
     "name": "stdout",
     "output_type": "stream",
     "text": [
      "('customer',)\n",
      "('information_schema',)\n",
      "('inventory',)\n",
      "('mysql',)\n",
      "('performance_schema',)\n",
      "('sys',)\n"
     ]
    }
   ],
   "source": [
    "curs.execute('show databases')\n",
    "for i in curs:\n",
    "    print(i)"
   ]
  },
  {
   "cell_type": "code",
   "execution_count": 6,
   "id": "e4e18535",
   "metadata": {},
   "outputs": [],
   "source": [
    "curs.execute('use customer')"
   ]
  },
  {
   "cell_type": "code",
   "execution_count": 30,
   "id": "a074e44b",
   "metadata": {},
   "outputs": [],
   "source": [
    "customers_table = '''\n",
    "                 create table customers(customer_id INT AUTO_INCREMENT PRIMARY KEY,\n",
    "    customer_name VARCHAR(20)\n",
    "    )'''\n",
    "curs.execute(customers_table)"
   ]
  },
  {
   "cell_type": "code",
   "execution_count": 40,
   "id": "228d4ab2",
   "metadata": {},
   "outputs": [],
   "source": [
    "alter_table= ''' alter table customers ADD COLUMN customer_email VARCHAR(255) UNIQUE '''\n",
    "curs.execute(alter_table)"
   ]
  },
  {
   "cell_type": "code",
   "execution_count": 41,
   "id": "d037813b",
   "metadata": {},
   "outputs": [
    {
     "name": "stdout",
     "output_type": "stream",
     "text": [
      "5 rows are inserted\n"
     ]
    }
   ],
   "source": [
    "cus_insert =\" insert into customers(customer_name,customer_email) values (%s,%s)\"\n",
    "cus_val = [('charan','charan@gmail.com'),\n",
    "           ('teja','teja@gmail.com'),\n",
    "           ('buchi','buchi@gmail.com'),\n",
    "           ('chichu','chichu@gmail.com'),\n",
    "           ('battu','battu@gmail.com')]\n",
    "curs.executemany(cus_insert,cus_val)\n",
    "conn.commit()\n",
    "print(curs.rowcount,'rows are inserted')"
   ]
  },
  {
   "cell_type": "code",
   "execution_count": 31,
   "id": "ce3e18cb",
   "metadata": {},
   "outputs": [],
   "source": [
    "products_table = '''\n",
    "                 create table products(product_id INT AUTO_INCREMENT PRIMARY KEY,\n",
    "    product_name VARCHAR(20),\n",
    "    price DECIMAL(10,2),\n",
    "    quantity_available INT)'''\n",
    "curs.execute(products_table)"
   ]
  },
  {
   "cell_type": "code",
   "execution_count": 42,
   "id": "4acdab53",
   "metadata": {},
   "outputs": [
    {
     "name": "stdout",
     "output_type": "stream",
     "text": [
      "5 rows are inserted\n"
     ]
    }
   ],
   "source": [
    "pro_insert =\" insert into products(product_name,price,quantity_available) values (%s,%s,%s)\"\n",
    "pro_val = [('AK-47',10000,30),\n",
    "           ('UZI',5000,50),\n",
    "           ('AKM',12500,30),\n",
    "           ('Carbine',15000,20),\n",
    "           ('Revolver',3000,500)]\n",
    "curs.executemany(pro_insert,pro_val)\n",
    "conn.commit()\n",
    "print(curs.rowcount,'rows are inserted')"
   ]
  },
  {
   "cell_type": "code",
   "execution_count": 32,
   "id": "303b7fbf",
   "metadata": {},
   "outputs": [],
   "source": [
    "orders_table = '''\n",
    "                create table orders(\n",
    "    order_id INT AUTO_INCREMENT PRIMARY KEY,\n",
    "    customer_id INT,\n",
    "    total_price DECIMAL(10, 2),\n",
    "    FOREIGN KEY (customer_id) REFERENCES customers(customer_id)\n",
    ") '''\n",
    "curs.execute(orders_table)"
   ]
  },
  {
   "cell_type": "code",
   "execution_count": 43,
   "id": "57584003",
   "metadata": {},
   "outputs": [
    {
     "name": "stdout",
     "output_type": "stream",
     "text": [
      "5 rows are inserted\n"
     ]
    }
   ],
   "source": [
    "ord_insert =\" insert into orders(customer_id,total_price) values (%s,%s)\"\n",
    "ord_val = [(1,5000),\n",
    "           (2,2000),\n",
    "           (3,3000),\n",
    "           (4,6000),\n",
    "           (5,6500)]\n",
    "curs.executemany(ord_insert,ord_val)\n",
    "conn.commit()\n",
    "print(curs.rowcount,'rows are inserted')"
   ]
  },
  {
   "cell_type": "code",
   "execution_count": 35,
   "id": "1e9a44fa",
   "metadata": {},
   "outputs": [],
   "source": [
    "details_table = '''\n",
    "create table orderdetails(\n",
    "    orderdetail_id INT AUTO_INCREMENT PRIMARY KEY,\n",
    "    order_id INT,\n",
    "    product_id INT,\n",
    "    quantity INT,\n",
    "    unit_price DECIMAL(10, 2) NOT NULL,\n",
    "    FOREIGN KEY (order_id) REFERENCES Orders(order_id),\n",
    "    FOREIGN KEY (product_id) REFERENCES Products(product_id)\n",
    ") '''\n",
    "curs.execute(details_table)"
   ]
  },
  {
   "cell_type": "code",
   "execution_count": 45,
   "id": "306cdbdc",
   "metadata": {},
   "outputs": [
    {
     "name": "stdout",
     "output_type": "stream",
     "text": [
      "5 rows are inserted\n"
     ]
    }
   ],
   "source": [
    "odt_insert =\" insert into orderdetails(order_id,product_id,quantity,unit_price) values (%s,%s,%s,%s)\"\n",
    "odt_val = [(1,4,10,7000),\n",
    "           (2,5,20,4000),\n",
    "           (3,2,30,6000),\n",
    "           (4,1,23,8000),\n",
    "           (5,3,34,5500)]\n",
    "curs.executemany(odt_insert,odt_val)\n",
    "conn.commit()\n",
    "print(curs.rowcount,'rows are inserted')"
   ]
  },
  {
   "cell_type": "markdown",
   "id": "d6b6246f",
   "metadata": {},
   "source": [
    "# Availability"
   ]
  },
  {
   "cell_type": "code",
   "execution_count": 7,
   "id": "8d1ffa7e",
   "metadata": {},
   "outputs": [
    {
     "name": "stdout",
     "output_type": "stream",
     "text": [
      "(4, 10, Decimal('7000.00'))\n"
     ]
    }
   ],
   "source": [
    "sql = ''' SELECT product_id, quantity, unit_price FROM orderdetails WHERE order_id = 1 '''\n",
    "curs.execute(sql)\n",
    "result = curs.fetchall()\n",
    "for i in result:\n",
    "    print(i)\n",
    "# order_details = curs.fetchall()\n",
    "# total_cost = 0\n",
    "# for order_detail in order_details:\n",
    "#     total_cost += order_detail[1] * order_detail[2]\n",
    "#     curs.execute(\"UPDATE Orders SET total_price = %s WHERE order_id = %1%\", (total_cost, order_id))\n",
    "#     conn.commit()\n",
    "#     print(f\"Total cost for Order ID {order_id}: {total_cost}\")\n"
   ]
  },
  {
   "cell_type": "code",
   "execution_count": null,
   "id": "1c7864ee",
   "metadata": {},
   "outputs": [],
   "source": []
  },
  {
   "cell_type": "markdown",
   "id": "a9e41f9e",
   "metadata": {},
   "source": [
    "#  3. You are tasked with developing a Python program that connects to a MySQL database, retrieves data from a table, performs some operations on the data, and updates the database with the modified data. Please write Python code to accomplish this task."
   ]
  },
  {
   "cell_type": "code",
   "execution_count": 5,
   "id": "6ab9b882",
   "metadata": {},
   "outputs": [
    {
     "name": "stdout",
     "output_type": "stream",
     "text": [
      "<mysql.connector.connection_cext.CMySQLConnection object at 0x0000017CC84CF850>\n"
     ]
    }
   ],
   "source": [
    "import mysql.connector\n",
    "conn = mysql.connector.connect(user = 'root',\n",
    "                              password = '444@Charanteja',\n",
    "                              host = '127.0.0.1',\n",
    "                              database = 'charandb'\n",
    "                             )\n",
    "print(conn)"
   ]
  },
  {
   "cell_type": "code",
   "execution_count": 6,
   "id": "0f6a7730",
   "metadata": {},
   "outputs": [],
   "source": [
    "curs = conn.cursor()"
   ]
  },
  {
   "cell_type": "code",
   "execution_count": 44,
   "id": "948ffbbe",
   "metadata": {},
   "outputs": [],
   "source": [
    "curs.execute('use charandb')"
   ]
  },
  {
   "cell_type": "code",
   "execution_count": 12,
   "id": "1022b185",
   "metadata": {},
   "outputs": [],
   "source": [
    "curs.execute('''create table items(id INT AUTO_INCREMent PRIMARY KEY,\n",
    "                item_name VARCHAR(20),\n",
    "                quantity INT)''')"
   ]
  },
  {
   "cell_type": "code",
   "execution_count": 14,
   "id": "d7d62b03",
   "metadata": {},
   "outputs": [
    {
     "name": "stdout",
     "output_type": "stream",
     "text": [
      "5 rows inserted into items.\n"
     ]
    }
   ],
   "source": [
    "insert_query = ''' INSERT INTO items(item_name,quantity) VALUES (%s,%s) '''\n",
    "insert_values = [('Apple',30),\n",
    "               ('Banana',40),\n",
    "               ('Carrot',50),\n",
    "                ('Beetroot',25),\n",
    "                ('orange',35)]\n",
    "curs.executemany(insert_query,insert_values)\n",
    "conn.commit()\n",
    "print(f\"{curs.rowcount} rows inserted into items.\")"
   ]
  },
  {
   "cell_type": "code",
   "execution_count": 20,
   "id": "775be6d2",
   "metadata": {},
   "outputs": [],
   "source": [
    "try:\n",
    "    select_query = 'select * from items'\n",
    "    curs.execute(select_query)\n",
    "    results = curs.fetchall()\n",
    "\n",
    "    update_query = \"update items set quantity = quantity * 2\"\n",
    "\n",
    "    curs.execute(update_query)\n",
    "    conn.commit()\n",
    "except mysql.connector.Error as err:\n",
    "    print(f\"Error: {err}\")"
   ]
  },
  {
   "cell_type": "code",
   "execution_count": 21,
   "id": "beb0f22b",
   "metadata": {},
   "outputs": [
    {
     "name": "stdout",
     "output_type": "stream",
     "text": [
      "(1, 'Apple', 60)\n",
      "(2, 'Banana', 80)\n",
      "(3, 'Carrot', 100)\n",
      "(4, 'Beetroot', 50)\n",
      "(5, 'orange', 70)\n"
     ]
    }
   ],
   "source": [
    "curs.execute(\"select * from items\")\n",
    "for i in curs:\n",
    "    print(i)"
   ]
  },
  {
   "cell_type": "markdown",
   "id": "b4c69421",
   "metadata": {},
   "source": [
    "# 4. You are developing an employee management system for a company. The database should store employee information, including name, salary, department, and hire date. Managers should be able to view and update employee details.\n",
    "\n",
    "1. Design the database schema for the employee management system.\n",
    "\n",
    "2. Write Python code to connect to the database and retrieve a list of employees in a specific department.\n",
    "\n",
    "3. Implement a feature to update an employee's salary."
   ]
  },
  {
   "cell_type": "code",
   "execution_count": 23,
   "id": "c3872864",
   "metadata": {},
   "outputs": [],
   "source": [
    "curs.execute(\"create database employeemanagement\")"
   ]
  },
  {
   "cell_type": "code",
   "execution_count": 41,
   "id": "a9f95484",
   "metadata": {},
   "outputs": [],
   "source": [
    "curs.execute(\"use employeemanagement\")"
   ]
  },
  {
   "cell_type": "code",
   "execution_count": 27,
   "id": "1efb7a4d",
   "metadata": {},
   "outputs": [],
   "source": [
    "curs.execute(''' create table employees(\n",
    "                  employee_id int AUTO_INCREMENT primary key,\n",
    "                  name varchar(20) not null,\n",
    "                  salary int not null,\n",
    "                  department varchar(20) not null,\n",
    "                  hire_date date not null) ''')"
   ]
  },
  {
   "cell_type": "code",
   "execution_count": 44,
   "id": "c50d83f3",
   "metadata": {},
   "outputs": [],
   "source": [
    "insert_query = 'insert into employees (name,salary,department,hire_date) values(%s,%s,%s,%s)'\n",
    "employee_data = [('Buchi',60000,'Manager','2023-09-15'),\n",
    "                ('Chichu',40000,'HR','2023-08-16'),\n",
    "                ('Tinku',45000,'SME','2023-07-14'),\n",
    "                ('Battu',50000,'Head','2023-09-15'),\n",
    "                ('Lomo',30000,'Assistant','2023-08-15'),]\n",
    "curs.executemany(insert_query,employee_data)\n"
   ]
  },
  {
   "cell_type": "code",
   "execution_count": 45,
   "id": "8c587c12",
   "metadata": {},
   "outputs": [
    {
     "name": "stdout",
     "output_type": "stream",
     "text": [
      "5 rows inserted into employees.\n"
     ]
    }
   ],
   "source": [
    "print(f\"{curs.rowcount} rows inserted into employees.\")"
   ]
  },
  {
   "cell_type": "code",
   "execution_count": 46,
   "id": "852e26df",
   "metadata": {},
   "outputs": [],
   "source": [
    "def get_employees(department):\n",
    "    query = \"select * from employees where department = %s\"\n",
    "    curs.execute(query,(department,))\n",
    "    \n",
    "    employees = curs.fetchall()\n",
    "    \n",
    "    for employee in employees:\n",
    "        print(f\"Employee Id: {employee[0]}, Name: {employee[1]}, Salary: {employee[2]}, Department: {employee[3]}, Hire date: {employee[4]}\")"
   ]
  },
  {
   "cell_type": "code",
   "execution_count": 47,
   "id": "44943f96",
   "metadata": {},
   "outputs": [
    {
     "name": "stdout",
     "output_type": "stream",
     "text": [
      "Employee Id: 2, Name: Chichu, Salary: 40000, Department: HR, Hire date: 2023-08-16\n"
     ]
    }
   ],
   "source": [
    "get_employees(\"HR\")"
   ]
  },
  {
   "cell_type": "code",
   "execution_count": 48,
   "id": "8f19f706",
   "metadata": {},
   "outputs": [],
   "source": [
    "def update_salary(employee_id,new_salary):\n",
    "    update_query = 'update employees set salary= %s where employee_id = %s'\n",
    "    curs.execute(update_query,(new_salary,employee_id))\n",
    "    conn.commit()"
   ]
  },
  {
   "cell_type": "code",
   "execution_count": 49,
   "id": "e3b919ba",
   "metadata": {},
   "outputs": [],
   "source": [
    "update_salary(3, 80000)"
   ]
  },
  {
   "cell_type": "code",
   "execution_count": 50,
   "id": "b1a88772",
   "metadata": {},
   "outputs": [
    {
     "name": "stdout",
     "output_type": "stream",
     "text": [
      "Employee Id: 3, Name: Tinku, Salary: 80000, Department: SME, Hire date: 2023-07-14\n"
     ]
    }
   ],
   "source": [
    "get_employees(\"SME\")"
   ]
  },
  {
   "cell_type": "code",
   "execution_count": null,
   "id": "8d466d45",
   "metadata": {},
   "outputs": [],
   "source": []
  }
 ],
 "metadata": {
  "kernelspec": {
   "display_name": "Python 3 (ipykernel)",
   "language": "python",
   "name": "python3"
  },
  "language_info": {
   "codemirror_mode": {
    "name": "ipython",
    "version": 3
   },
   "file_extension": ".py",
   "mimetype": "text/x-python",
   "name": "python",
   "nbconvert_exporter": "python",
   "pygments_lexer": "ipython3",
   "version": "3.11.4"
  }
 },
 "nbformat": 4,
 "nbformat_minor": 5
}
