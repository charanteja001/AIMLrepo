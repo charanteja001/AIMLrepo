{
 "cells": [
  {
   "cell_type": "markdown",
   "id": "749df3c3",
   "metadata": {},
   "source": [
    "# 1.Manipulate using a list"
   ]
  },
  {
   "cell_type": "code",
   "execution_count": 48,
   "id": "82364add",
   "metadata": {},
   "outputs": [],
   "source": [
    "l = ['Prabhas','Salaar','Ranbir','Animal']"
   ]
  },
  {
   "cell_type": "code",
   "execution_count": 49,
   "id": "2b2da73f",
   "metadata": {},
   "outputs": [
    {
     "data": {
      "text/plain": [
       "['Prabhas', 'Salaar', 'Ranbir', 'Animal', 'Prashanth']"
      ]
     },
     "execution_count": 49,
     "metadata": {},
     "output_type": "execute_result"
    }
   ],
   "source": [
    "# To addnew elements to the end of the list \n",
    "\n",
    "l.append('Prashanth')\n",
    "l\n"
   ]
  },
  {
   "cell_type": "code",
   "execution_count": 50,
   "id": "0db5269b",
   "metadata": {},
   "outputs": [
    {
     "data": {
      "text/plain": [
       "['Prashanth', 'Animal', 'Ranbir', 'Salaar', 'Prabhas']"
      ]
     },
     "execution_count": 50,
     "metadata": {},
     "output_type": "execute_result"
    }
   ],
   "source": [
    "# TO reverse elements in the list\n",
    "\n",
    "l.reverse()\n",
    "l\n"
   ]
  },
  {
   "cell_type": "code",
   "execution_count": 51,
   "id": "a7dc6b0d",
   "metadata": {},
   "outputs": [
    {
     "name": "stdout",
     "output_type": "stream",
     "text": [
      "['Prashanth', 'Animal', 'Ranbir', 'Salaar', 'Prabhas', 'Prashanth', 'Animal', 'Ranbir', 'Salaar', 'Prabhas', 'Prashanth', 'Animal', 'Ranbir', 'Salaar', 'Prabhas', 'Prashanth', 'Animal', 'Ranbir', 'Salaar', 'Prabhas', 'Prashanth', 'Animal', 'Ranbir', 'Salaar', 'Prabhas']\n"
     ]
    }
   ],
   "source": [
    "# To display same list of elements multiple times\n",
    "n = 5\n",
    "mt = l*n\n",
    "print(mt)\n",
    "\n"
   ]
  },
  {
   "cell_type": "code",
   "execution_count": 52,
   "id": "587e94e0",
   "metadata": {},
   "outputs": [
    {
     "name": "stdout",
     "output_type": "stream",
     "text": [
      "['Prashanth', 'Animal', 'Ranbir', 'Salaar', 'Prabhas', '111', '112', '113', '114']\n"
     ]
    }
   ],
   "source": [
    "# To concatenate two list\n",
    "\n",
    "l1 = ['111','112','113','114']\n",
    "\n",
    "l.extend(l1)\n",
    "print(l)"
   ]
  },
  {
   "cell_type": "code",
   "execution_count": 54,
   "id": "06d304b9",
   "metadata": {},
   "outputs": [
    {
     "data": {
      "text/plain": [
       "['111',\n",
       " '112',\n",
       " '113',\n",
       " '114',\n",
       " 'Animal',\n",
       " 'Prabhas',\n",
       " 'Prashanth',\n",
       " 'Ranbir',\n",
       " 'Salaar']"
      ]
     },
     "execution_count": 54,
     "metadata": {},
     "output_type": "execute_result"
    }
   ],
   "source": [
    "# To sort the elements in the list by ascending order\n",
    "\n",
    "l.sort()\n",
    "l"
   ]
  },
  {
   "cell_type": "markdown",
   "id": "188acd8b",
   "metadata": {},
   "source": [
    "# 2.Write a python program to do in the tuples"
   ]
  },
  {
   "cell_type": "code",
   "execution_count": 116,
   "id": "23861948",
   "metadata": {},
   "outputs": [],
   "source": [
    "# Manipulate using tuples\n",
    "\n",
    "t = ('Dhoni',183,'Sachin','Greenidge',200,156)"
   ]
  },
  {
   "cell_type": "code",
   "execution_count": 117,
   "id": "1421a088",
   "metadata": {},
   "outputs": [
    {
     "name": "stdout",
     "output_type": "stream",
     "text": [
      "('Dhoni', 183, 'Sachin', 'Greenidge', 200, 156, 'Sehwag', 209)\n"
     ]
    }
   ],
   "source": [
    "# To add new elements to the end of the tuples\n",
    "\n",
    "new_element = ('Sehwag',209)\n",
    "result = t + new_element\n",
    "print(result)\n"
   ]
  },
  {
   "cell_type": "code",
   "execution_count": 121,
   "id": "d6eba2d3",
   "metadata": {},
   "outputs": [
    {
     "data": {
      "text/plain": [
       "[156, 200, 'Greenidge', 'Sachin', 183, 'Dhoni']"
      ]
     },
     "execution_count": 121,
     "metadata": {},
     "output_type": "execute_result"
    }
   ],
   "source": [
    "# To reverse elements in the list\n",
    "\n",
    "lst = list(t)\n",
    "lst.reverse()\n",
    "lst"
   ]
  },
  {
   "cell_type": "code",
   "execution_count": 122,
   "id": "4c82e705",
   "metadata": {},
   "outputs": [
    {
     "name": "stdout",
     "output_type": "stream",
     "text": [
      "(156, 200, 'Greenidge', 'Sachin', 183, 'Dhoni', 156, 200, 'Greenidge', 'Sachin', 183, 'Dhoni', 156, 200, 'Greenidge', 'Sachin', 183, 'Dhoni', 156, 200, 'Greenidge', 'Sachin', 183, 'Dhoni', 156, 200, 'Greenidge', 'Sachin', 183, 'Dhoni', 156, 200, 'Greenidge', 'Sachin', 183, 'Dhoni')\n"
     ]
    }
   ],
   "source": [
    "#  To display the elements of the same tuple multiple times\n",
    "\n",
    "t = tuple(lst)\n",
    "\n",
    "n = 6\n",
    "multiple_times = t*n\n",
    "print(multiple_times)"
   ]
  },
  {
   "cell_type": "code",
   "execution_count": 123,
   "id": "ab4e8302",
   "metadata": {},
   "outputs": [
    {
     "name": "stdout",
     "output_type": "stream",
     "text": [
      "(156, 200, 'Greenidge', 'Sachin', 183, 'Dhoni', 'Klusener', 'Ambrose', 19, 76)\n"
     ]
    }
   ],
   "source": [
    "# To concatenate two tuples\n",
    "\n",
    "t2 = ('Klusener','Ambrose',19,76)\n",
    "concatenate = t + t2\n",
    "print(concatenate)"
   ]
  },
  {
   "cell_type": "code",
   "execution_count": 124,
   "id": "e947f383",
   "metadata": {},
   "outputs": [
    {
     "ename": "TypeError",
     "evalue": "'<' not supported between instances of 'str' and 'int'",
     "output_type": "error",
     "traceback": [
      "\u001b[1;31m---------------------------------------------------------------------------\u001b[0m",
      "\u001b[1;31mTypeError\u001b[0m                                 Traceback (most recent call last)",
      "Cell \u001b[1;32mIn[124], line 4\u001b[0m\n\u001b[0;32m      1\u001b[0m \u001b[38;5;66;03m#  To sort the elements in the list in ascending order\u001b[39;00m\n\u001b[0;32m      3\u001b[0m lst \u001b[38;5;241m=\u001b[39m \u001b[38;5;28mlist\u001b[39m(t)\n\u001b[1;32m----> 4\u001b[0m lst\u001b[38;5;241m.\u001b[39msort()\n\u001b[0;32m      5\u001b[0m \u001b[38;5;28mprint\u001b[39m(lst)\n",
      "\u001b[1;31mTypeError\u001b[0m: '<' not supported between instances of 'str' and 'int'"
     ]
    }
   ],
   "source": [
    "#  To sort the elements in the list in ascending order\n",
    "\n",
    "lst = list(t)\n",
    "lst.sort()\n",
    "print(lst)"
   ]
  },
  {
   "cell_type": "markdown",
   "id": "d8ece6cd",
   "metadata": {},
   "source": [
    "# 3.Write a python program to implement the following using list"
   ]
  },
  {
   "cell_type": "code",
   "execution_count": 125,
   "id": "4621522e",
   "metadata": {},
   "outputs": [],
   "source": [
    "#  Create a list with minimum ten numbers\n",
    "\n",
    "l1 = [10,20,30,40,50,60,70,80,90,100]"
   ]
  },
  {
   "cell_type": "code",
   "execution_count": 126,
   "id": "13ab37d0",
   "metadata": {},
   "outputs": [
    {
     "data": {
      "text/plain": [
       "100"
      ]
     },
     "execution_count": 126,
     "metadata": {},
     "output_type": "execute_result"
    }
   ],
   "source": [
    "#  Display Last number in the list\n",
    "\n",
    "l1[-1]"
   ]
  },
  {
   "cell_type": "code",
   "execution_count": 127,
   "id": "70d87779",
   "metadata": {},
   "outputs": [
    {
     "data": {
      "text/plain": [
       "[10, 20, 30, 40]"
      ]
     },
     "execution_count": 127,
     "metadata": {},
     "output_type": "execute_result"
    }
   ],
   "source": [
    "#  Command for displaying the values from the list \n",
    "l1[0:4]"
   ]
  },
  {
   "cell_type": "code",
   "execution_count": 128,
   "id": "7b2c5416",
   "metadata": {},
   "outputs": [
    {
     "data": {
      "text/plain": [
       "[30, 40, 50, 60, 70, 80, 90, 100]"
      ]
     },
     "execution_count": 128,
     "metadata": {},
     "output_type": "execute_result"
    }
   ],
   "source": [
    "# Command for displaying the values from the list\n",
    "l1[2:]"
   ]
  },
  {
   "cell_type": "code",
   "execution_count": 129,
   "id": "fb43815e",
   "metadata": {},
   "outputs": [
    {
     "data": {
      "text/plain": [
       "[10, 20, 30, 40, 50, 60]"
      ]
     },
     "execution_count": 129,
     "metadata": {},
     "output_type": "execute_result"
    }
   ],
   "source": [
    "#  Command for dispalying the values from the list\n",
    "l1[:6]"
   ]
  },
  {
   "cell_type": "markdown",
   "id": "5d5f71b6",
   "metadata": {},
   "source": [
    "# 4.Write a python program "
   ]
  },
  {
   "cell_type": "code",
   "execution_count": 130,
   "id": "ab781491",
   "metadata": {},
   "outputs": [],
   "source": [
    "tuple1 = (10,50,20,40,30)\n"
   ]
  },
  {
   "cell_type": "code",
   "execution_count": 133,
   "id": "1701a841",
   "metadata": {},
   "outputs": [
    {
     "data": {
      "text/plain": [
       "(10, 50)"
      ]
     },
     "execution_count": 133,
     "metadata": {},
     "output_type": "execute_result"
    }
   ],
   "source": [
    "#  To display the elements 10 and 50 from tuple1\n",
    "print(index(0),index(1))"
   ]
  },
  {
   "cell_type": "code",
   "execution_count": 135,
   "id": "a8be3c2c",
   "metadata": {},
   "outputs": [
    {
     "name": "stdout",
     "output_type": "stream",
     "text": [
      "5\n"
     ]
    }
   ],
   "source": [
    "# To display the length of a tuple1\n",
    "\n",
    "length = len(tuple1)\n",
    "print(length)"
   ]
  },
  {
   "cell_type": "code",
   "execution_count": 136,
   "id": "05b9ca2f",
   "metadata": {},
   "outputs": [
    {
     "name": "stdout",
     "output_type": "stream",
     "text": [
      "10\n"
     ]
    }
   ],
   "source": [
    "#  To find the minimum element from the tuple1\n",
    "\n",
    "minimum = min(tuple1)\n",
    "print(minimum)"
   ]
  },
  {
   "cell_type": "code",
   "execution_count": 137,
   "id": "fe71c9e8",
   "metadata": {},
   "outputs": [
    {
     "name": "stdout",
     "output_type": "stream",
     "text": [
      "150\n"
     ]
    }
   ],
   "source": [
    "#  To add all the elements in the tuple1\n",
    "\n",
    "add = sum(tuple1)\n",
    "print(add)"
   ]
  },
  {
   "cell_type": "code",
   "execution_count": 138,
   "id": "fad25051",
   "metadata": {},
   "outputs": [
    {
     "name": "stdout",
     "output_type": "stream",
     "text": [
      "(10, 50, 20, 40, 30)\n",
      "(10, 50, 20, 40, 30)\n",
      "(10, 50, 20, 40, 30)\n",
      "(10, 50, 20, 40, 30)\n",
      "(10, 50, 20, 40, 30)\n"
     ]
    }
   ],
   "source": [
    "#  To display the tuple multiple times\n",
    "\n",
    "n = 5\n",
    "for i in range(n):\n",
    "    print(tuple1)"
   ]
  },
  {
   "cell_type": "markdown",
   "id": "81356b2d",
   "metadata": {},
   "source": [
    "# 5.Write a python program"
   ]
  },
  {
   "cell_type": "code",
   "execution_count": 139,
   "id": "3ff1a3fa",
   "metadata": {},
   "outputs": [],
   "source": [
    "string = \"Jupyter Notebook\""
   ]
  },
  {
   "cell_type": "code",
   "execution_count": 140,
   "id": "c89b3695",
   "metadata": {},
   "outputs": [
    {
     "name": "stdout",
     "output_type": "stream",
     "text": [
      "16\n"
     ]
    }
   ],
   "source": [
    "#  To calculate the length of the string\n",
    "\n",
    "l = len(string)\n",
    "print(l)"
   ]
  },
  {
   "cell_type": "code",
   "execution_count": 141,
   "id": "9bd884fb",
   "metadata": {},
   "outputs": [
    {
     "name": "stdout",
     "output_type": "stream",
     "text": [
      "koobetoN retypuJ\n"
     ]
    }
   ],
   "source": [
    "#  To reverse words in the string\n",
    "\n",
    "rev = string[::-1]\n",
    "print(rev)"
   ]
  },
  {
   "cell_type": "code",
   "execution_count": 142,
   "id": "698418c5",
   "metadata": {},
   "outputs": [
    {
     "name": "stdout",
     "output_type": "stream",
     "text": [
      "Jupyter Notebook\n",
      "Jupyter Notebook\n",
      "Jupyter Notebook\n",
      "Jupyter Notebook\n",
      "Jupyter Notebook\n"
     ]
    }
   ],
   "source": [
    "# To display the same string multiple times\n",
    "\n",
    "n = 5 \n",
    "for i in range(n):\n",
    "    print(string)"
   ]
  },
  {
   "cell_type": "code",
   "execution_count": 143,
   "id": "13b0f798",
   "metadata": {},
   "outputs": [
    {
     "name": "stdout",
     "output_type": "stream",
     "text": [
      "Jupyter Notebook is available\n"
     ]
    }
   ],
   "source": [
    "# TO concatenate two strings\n",
    "\n",
    "string1 = \"is available\"\n",
    "\n",
    "con = string + \" \" + string1\n",
    "print(con)"
   ]
  },
  {
   "cell_type": "code",
   "execution_count": 145,
   "id": "d1cd7257",
   "metadata": {},
   "outputs": [
    {
     "name": "stdout",
     "output_type": "stream",
     "text": [
      "India\n"
     ]
    }
   ],
   "source": [
    "#  To slice \n",
    "\n",
    "str1 = \"South India\"\n",
    "s = str1[6:]\n",
    "print(s)"
   ]
  },
  {
   "cell_type": "markdown",
   "id": "f6d23c86",
   "metadata": {},
   "source": [
    "# 6.Perform The following"
   ]
  },
  {
   "cell_type": "code",
   "execution_count": 9,
   "id": "247b6537",
   "metadata": {},
   "outputs": [],
   "source": [
    "#  Creating the dictionary\n",
    "\n",
    "dic = {\"Virat\":\"Cricket\",\n",
    "       \"Zlatan\":\"Football\",\n",
    "       \"Sharapova\":\"Tennis\",\n",
    "       \"Khamzat\":\"UFC\"\n",
    "      }"
   ]
  },
  {
   "cell_type": "code",
   "execution_count": 2,
   "id": "a7fe82d5",
   "metadata": {},
   "outputs": [
    {
     "name": "stdout",
     "output_type": "stream",
     "text": [
      "Virat's sport: Cricket\n",
      "Zlatan's sport: Football\n",
      "Sharapova's sport: Tennis\n",
      "Khamzat's sport: UFC\n",
      "\n",
      "Keys:\n",
      "Virat\n",
      "Zlatan\n",
      "Sharapova\n",
      "Khamzat\n"
     ]
    }
   ],
   "source": [
    "#  Accessing values and keys in the dictionary\n",
    "print(\"Virat's sport:\", dic[\"Virat\"])\n",
    "print(\"Zlatan's sport:\", dic[\"Zlatan\"])\n",
    "print(\"Sharapova's sport:\", dic[\"Sharapova\"])\n",
    "print(\"Khamzat's sport:\", dic[\"Khamzat\"])\n",
    "\n",
    "print(\"\\nKeys:\")\n",
    "for key in dic:\n",
    "    print(key)\n"
   ]
  },
  {
   "cell_type": "code",
   "execution_count": 6,
   "id": "8ab75e73",
   "metadata": {},
   "outputs": [
    {
     "name": "stdout",
     "output_type": "stream",
     "text": [
      "Virat's sport has been updated to Football\n",
      "Khamzat's sport has been updated to MMA\n",
      "\n",
      "Updated Dictionary:\n",
      "Virat's sport: Football\n",
      "Zlatan's sport: Football\n",
      "Sharapova's sport: Tennis\n",
      "Khamzat's sport: MMA\n"
     ]
    }
   ],
   "source": [
    "# Update\n",
    "def update(dictionary, player, new):\n",
    "    if player in dictionary:\n",
    "        dictionary[player] = new\n",
    "        print(f\"{player}'s sport has been updated to {new}\")\n",
    "        \n",
    "update(dic, \"Virat\", \"Football\")\n",
    "update(dic, \"Khamzat\", \"MMA\")\n",
    "\n",
    "# Print updated dictionary\n",
    "print(\"\\nUpdated Dictionary:\")\n",
    "for key, value in dic.items():\n",
    "    print(f\"{key}'s sport: {value}\")"
   ]
  },
  {
   "cell_type": "code",
   "execution_count": 11,
   "id": "73995eaf",
   "metadata": {},
   "outputs": [
    {
     "name": "stdout",
     "output_type": "stream",
     "text": [
      "{}\n"
     ]
    }
   ],
   "source": [
    "#  Clear values\n",
    "\n",
    "dic.clear()\n",
    "print(dic)"
   ]
  },
  {
   "cell_type": "markdown",
   "id": "d9364971",
   "metadata": {},
   "source": [
    "# 7.Python program to insert a number to any position in a list"
   ]
  },
  {
   "cell_type": "code",
   "execution_count": 210,
   "id": "f2835553",
   "metadata": {},
   "outputs": [
    {
     "name": "stdout",
     "output_type": "stream",
     "text": [
      "[10, 20, 30, 40, 50, 60, 1, 70, 80, 90, 100]\n"
     ]
    }
   ],
   "source": [
    "list1 = [10,20,30,40,50,60,70,80,90,100]\n",
    "\n",
    "list1.insert(6,1)\n",
    "print(list1)"
   ]
  },
  {
   "cell_type": "markdown",
   "id": "80bbe024",
   "metadata": {},
   "source": [
    "# 8.Python program to delete an element from a list by index"
   ]
  },
  {
   "cell_type": "code",
   "execution_count": 212,
   "id": "291334cd",
   "metadata": {},
   "outputs": [
    {
     "name": "stdout",
     "output_type": "stream",
     "text": [
      "[15, 34, 33, 22, 98, 877, 65, 83, 23]\n"
     ]
    }
   ],
   "source": [
    "list2 = [15,34,54,33,22,98,877,65,83,23]\n",
    "list2.pop(2)\n",
    "print(list2)\n"
   ]
  },
  {
   "cell_type": "markdown",
   "id": "c45dc6ec",
   "metadata": {},
   "source": [
    "# 9.Write a program to display a number 1 to 100."
   ]
  },
  {
   "cell_type": "code",
   "execution_count": 215,
   "id": "a1ee249b",
   "metadata": {},
   "outputs": [
    {
     "name": "stdout",
     "output_type": "stream",
     "text": [
      "1\n",
      "2\n",
      "3\n",
      "4\n",
      "5\n",
      "6\n",
      "7\n",
      "8\n",
      "9\n",
      "10\n",
      "11\n",
      "12\n",
      "13\n",
      "14\n",
      "15\n",
      "16\n",
      "17\n",
      "18\n",
      "19\n",
      "20\n",
      "21\n",
      "22\n",
      "23\n",
      "24\n",
      "25\n",
      "26\n",
      "27\n",
      "28\n",
      "29\n",
      "30\n",
      "31\n",
      "32\n",
      "33\n",
      "34\n",
      "35\n",
      "36\n",
      "37\n",
      "38\n",
      "39\n",
      "40\n",
      "41\n",
      "42\n",
      "43\n",
      "44\n",
      "45\n",
      "46\n",
      "47\n",
      "48\n",
      "49\n",
      "50\n",
      "51\n",
      "52\n",
      "53\n",
      "54\n",
      "55\n",
      "56\n",
      "57\n",
      "58\n",
      "59\n",
      "60\n",
      "61\n",
      "62\n",
      "63\n",
      "64\n",
      "65\n",
      "66\n",
      "67\n",
      "68\n",
      "69\n",
      "70\n",
      "71\n",
      "72\n",
      "73\n",
      "74\n",
      "75\n",
      "76\n",
      "77\n",
      "78\n",
      "79\n",
      "80\n",
      "81\n",
      "82\n",
      "83\n",
      "84\n",
      "85\n",
      "86\n",
      "87\n",
      "88\n",
      "89\n",
      "90\n",
      "91\n",
      "92\n",
      "93\n",
      "94\n",
      "95\n",
      "96\n",
      "97\n",
      "98\n",
      "99\n",
      "100\n"
     ]
    }
   ],
   "source": [
    "number = 1\n",
    "while number<=100:\n",
    "    print(number)\n",
    "    number += 1"
   ]
  },
  {
   "cell_type": "markdown",
   "id": "32853033",
   "metadata": {},
   "source": [
    "# 10.Write a python program to find the sum of all items in tuple"
   ]
  },
  {
   "cell_type": "code",
   "execution_count": 216,
   "id": "e7ad8b7d",
   "metadata": {},
   "outputs": [
    {
     "name": "stdout",
     "output_type": "stream",
     "text": [
      "293\n"
     ]
    }
   ],
   "source": [
    "t1 = (12,34,84,76,87)\n",
    "\n",
    "add = sum(t1)\n",
    "print(add)"
   ]
  },
  {
   "cell_type": "markdown",
   "id": "124de3f0",
   "metadata": {},
   "source": [
    "# 11. Creating a dictionary containing three lambda "
   ]
  },
  {
   "cell_type": "code",
   "execution_count": 224,
   "id": "60ca409b",
   "metadata": {},
   "outputs": [
    {
     "name": "stdout",
     "output_type": "stream",
     "text": [
      "Square: 16\n",
      "Cube: 64\n",
      "Square Root: 2.0\n",
      "Result : 82.0\n"
     ]
    }
   ],
   "source": [
    "\n",
    "my_dict = {\n",
    "    'Square': lambda x: x ** 2,\n",
    "    'Cube': lambda x: x ** 3,\n",
    "    'Square Root': lambda x: x ** 0.5\n",
    "}\n",
    "\n",
    "# Define values to pass to the functions\n",
    "value = 4\n",
    "\n",
    "# Apply the lambda functions and add their outputs\n",
    "result = my_dict['Square'](value) + my_dict['Cube'](value) + my_dict['Square Root'](value)\n",
    "\n",
    "# Print the result\n",
    "print(\"Square:\",my_dict['Square'](value))\n",
    "print(\"Cube:\",my_dict['Cube'](value))\n",
    "print(\"Square Root:\",my_dict['Square Root'](value))\n",
    "print(\"Result :\", result)"
   ]
  },
  {
   "cell_type": "markdown",
   "id": "d180b85d",
   "metadata": {},
   "source": [
    "# 12.Find the words from the list which have their second character in uppercase."
   ]
  },
  {
   "cell_type": "code",
   "execution_count": 25,
   "id": "2ad3d090",
   "metadata": {},
   "outputs": [
    {
     "name": "stdout",
     "output_type": "stream",
     "text": [
      "['hOw', 'ARe']\n"
     ]
    }
   ],
   "source": [
    "ls = [\"hello\", \"Dear\", \"hOw\", \"ARe\", \"You\"]\n",
    "\n",
    "result = [word for word in ls if len(word) > 1 and word[1].isupper()]\n",
    "print(result)\n"
   ]
  },
  {
   "cell_type": "markdown",
   "id": "eb80e696",
   "metadata": {},
   "source": [
    "# 13.A dictionary of names and their weights on earth is given. Find how much they will weigh on the moon. (Use map and lambda functions) Formula: wMoon (wEarth GMoon) / GEarth\n",
    "\n",
    "i)\n",
    "\n",
    "# Weight of people in kg\n",
    "\n",
    "ii)\n",
    "\n",
    "# Gravitational force on the Moon: 1.622 m/s2\n",
    "\n",
    "GMoon 1.622\n",
    "\n",
    "iii)\n",
    "# Gravitational force on the Earth: 9.81 m/s2\n",
    "\n",
    "GEarth = 9.81"
   ]
  },
  {
   "cell_type": "code",
   "execution_count": 31,
   "id": "377f9d6d",
   "metadata": {},
   "outputs": [
    {
     "name": "stdout",
     "output_type": "stream",
     "text": [
      "John's weight on the Moon: 7.440366972477065 kg\n",
      "Shelly's weight on the Moon: 10.747196738022426 kg\n",
      "Marry's weight on the Moon: 5.786952089704383 kg\n"
     ]
    }
   ],
   "source": [
    "\n",
    "WeightOnEarth = {'John' : 45,'Shelly': 65, 'Marry': 35}\n",
    " \n",
    "GMoon = 1.622\n",
    "\n",
    "GEarth = 9.81\n",
    "\n",
    "\n",
    "WeightOnMoon = list(map(lambda x: x[1] * GMoon / GEarth, WeightOnEarth.items()))\n",
    "\n",
    "for name, weight_moon in zip(WeightOnEarth.keys(), WeightOnMoon):\n",
    "    print(f\"{name}'s weight on the Moon: {weight_moon} kg\")"
   ]
  },
  {
   "cell_type": "markdown",
   "id": "7d302ed8",
   "metadata": {},
   "source": [
    "# Control structures"
   ]
  },
  {
   "cell_type": "markdown",
   "id": "0f976e19",
   "metadata": {},
   "source": [
    "# 1. Python program to n prime numbers"
   ]
  },
  {
   "cell_type": "code",
   "execution_count": 3,
   "id": "7b074e81",
   "metadata": {},
   "outputs": [
    {
     "name": "stdout",
     "output_type": "stream",
     "text": [
      "enter the number last number :10\n",
      "2\n",
      "3\n",
      "5\n",
      "7\n"
     ]
    }
   ],
   "source": [
    "n = int(input(\"enter the number last number :\"))\n",
    "for i in range(2,n+1):\n",
    "    for j in range(2,i):\n",
    "        if(i%j==0):\n",
    "            break\n",
    "    else:\n",
    "        print(i)"
   ]
  },
  {
   "cell_type": "markdown",
   "id": "0aa5af8c",
   "metadata": {},
   "source": [
    "# 2.Write the python code that calculates the salary of an employee. Prompt the user to enter the Basic Salary, HRA, TA, and DA. Add these components to calculate the Gross Salary. Also, deduct 10% of salary from the Gross Salary to be paid as tax and display gross minus tax as net salary"
   ]
  },
  {
   "cell_type": "code",
   "execution_count": 33,
   "id": "0192ecb2",
   "metadata": {},
   "outputs": [
    {
     "name": "stdout",
     "output_type": "stream",
     "text": [
      "Enter Basic Salary: 10000\n",
      "Enter HRA: 2000\n",
      "Enter TA: 3000\n",
      "Enter DA: 4000\n",
      "Gross Salary: 19000.00\n",
      "Tax Deducted: 1900.00\n",
      "Net Salary: 17100.00\n"
     ]
    }
   ],
   "source": [
    "basic_salary = float(input(\"Enter Basic Salary: \"))\n",
    "hra = float(input(\"Enter HRA: \"))\n",
    "ta = float(input(\"Enter TA: \"))\n",
    "da = float(input(\"Enter DA: \"))\n",
    "\n",
    "\n",
    "gross_salary = basic_salary + hra + ta + da\n",
    "\n",
    "\n",
    "tax = 0.10 * gross_salary\n",
    "\n",
    "\n",
    "net_salary = gross_salary - tax\n",
    "\n",
    "\n",
    "print(f\"Gross Salary: {gross_salary:.2f}\")\n",
    "print(f\"Tax Deducted: {tax:.2f}\")\n",
    "print(f\"Net Salary: {net_salary:.2f}\")"
   ]
  },
  {
   "cell_type": "markdown",
   "id": "92bb499d",
   "metadata": {},
   "source": [
    "# 3. Write a python program to search for a string in the given list."
   ]
  },
  {
   "cell_type": "code",
   "execution_count": 38,
   "id": "77d3bf90",
   "metadata": {},
   "outputs": [
    {
     "name": "stdout",
     "output_type": "stream",
     "text": [
      "Enter a string to search for in the list: surya\n",
      "The string 'surya' was found at indices: [6]\n"
     ]
    }
   ],
   "source": [
    "\n",
    "my_list = [\"prabhas\", \"salaar\", \"lokesh\", \"leo\", \"ranbir\", \"animal\", \"surya\"]\n",
    "\n",
    "def search(my_list, target):\n",
    "    l = []\n",
    "    for index, item in enumerate(my_list):\n",
    "        if target.lower() in item.lower():\n",
    "            l.append(index)\n",
    "    return l\n",
    "\n",
    "\n",
    "search_target = input(\"Enter a string to search for in the list: \")\n",
    "\n",
    "\n",
    "results = search(my_list, search_target)\n",
    "\n",
    "\n",
    "if results:\n",
    "    print(f\"The string '{search_target}' was found at indices:\", results)\n",
    "else:\n",
    "    print(f\"The string '{search_target}' was not found in the list.\")\n"
   ]
  },
  {
   "cell_type": "markdown",
   "id": "1110644f",
   "metadata": {},
   "source": [
    "# 4.Write a Python function that accepts a string and calculates the number of upper-case letters and lower-case letters"
   ]
  },
  {
   "cell_type": "code",
   "execution_count": 46,
   "id": "7eb3675e",
   "metadata": {},
   "outputs": [
    {
     "name": "stdout",
     "output_type": "stream",
     "text": [
      "Enter a string: chARAn\n",
      "Uppercase letters: 3\n",
      "Lowercase letters: 3\n"
     ]
    }
   ],
   "source": [
    "def count(string):\n",
    "    upper_count = 0\n",
    "    lower_count = 0\n",
    " \n",
    "    for char in string:\n",
    "        if char.isupper():\n",
    "            upper_count += 1\n",
    "        elif char.islower():\n",
    "            lower_count += 1\n",
    "    \n",
    "    return upper_count, lower_count\n",
    "\n",
    "\n",
    "string = input(\"Enter a string: \")\n",
    "upper_count, lower_count = count(string)\n",
    "\n",
    "print(\"Uppercase letters:\", upper_count)\n",
    "print(\"Lowercase letters:\", lower_count)\n"
   ]
  },
  {
   "cell_type": "markdown",
   "id": "8668329b",
   "metadata": {},
   "source": [
    "# 5.Write a program to display the sum of odd numbers and even numbers that fall between 12 and 37"
   ]
  },
  {
   "cell_type": "code",
   "execution_count": 47,
   "id": "57da0ad0",
   "metadata": {},
   "outputs": [
    {
     "name": "stdout",
     "output_type": "stream",
     "text": [
      "Sum of even numbers: 312\n",
      "Sum of odd numbers: 325\n"
     ]
    }
   ],
   "source": [
    "even = 0\n",
    "odd = 0\n",
    "\n",
    "for num in range(12, 38):\n",
    "    if num % 2 == 0:  \n",
    "        even += num\n",
    "    else:\n",
    "        odd += num\n",
    "\n",
    "print(\"Sum of even numbers:\", even)\n",
    "print(\"Sum of odd numbers:\", odd)"
   ]
  },
  {
   "cell_type": "markdown",
   "id": "10540f23",
   "metadata": {},
   "source": [
    "# 6. Table of any number"
   ]
  },
  {
   "cell_type": "code",
   "execution_count": 52,
   "id": "444a5af3",
   "metadata": {},
   "outputs": [
    {
     "name": "stdout",
     "output_type": "stream",
     "text": [
      "Enter a number: 6\n",
      "6 x 1 = 6\n",
      "6 x 2 = 12\n",
      "6 x 3 = 18\n",
      "6 x 4 = 24\n",
      "6 x 5 = 30\n",
      "6 x 6 = 36\n",
      "6 x 7 = 42\n",
      "6 x 8 = 48\n",
      "6 x 9 = 54\n",
      "6 x 10 = 60\n"
     ]
    }
   ],
   "source": [
    "number = int(input(\"Enter a number: \"))\n",
    "\n",
    "start = 1\n",
    "end = 11\n",
    "\n",
    "for i in range(start, end ):\n",
    "    result = number * i\n",
    "    print(f\"{number} x {i} = {result}\")\n"
   ]
  },
  {
   "cell_type": "markdown",
   "id": "c6fb8bbd",
   "metadata": {},
   "source": [
    "# 7. Write a Python program to sum the first 10 prime numbers."
   ]
  },
  {
   "cell_type": "code",
   "execution_count": 56,
   "id": "92d1a194",
   "metadata": {},
   "outputs": [
    {
     "name": "stdout",
     "output_type": "stream",
     "text": [
      "2\n",
      "3\n",
      "5\n",
      "7\n"
     ]
    }
   ],
   "source": [
    "for i in range(2,11):\n",
    "    for j in range(2,i):\n",
    "        if(i%j==0):\n",
    "            break\n",
    "    else:\n",
    "        print(i)"
   ]
  },
  {
   "cell_type": "markdown",
   "id": "4a5b10c9",
   "metadata": {},
   "source": [
    "# 8. write a python program to implement arithmetic operations using nested if statement."
   ]
  },
  {
   "cell_type": "code",
   "execution_count": 61,
   "id": "4a804e09",
   "metadata": {},
   "outputs": [
    {
     "name": "stdout",
     "output_type": "stream",
     "text": [
      "Enter the first number: 5\n",
      "Enter the second number: 98\n",
      "Enter the arithmetic operation (+, -, *, /): +\n",
      "5.0 + 98.0 = 103.0\n"
     ]
    }
   ],
   "source": [
    "\n",
    "num1 = float(input(\"Enter the first number: \"))\n",
    "num2 = float(input(\"Enter the second number: \"))\n",
    "operation = input(\"Enter the arithmetic operation (+, -, *, /): \")\n",
    "\n",
    "if operation == \"+\":\n",
    "    result = num1 + num2\n",
    "    print(f\"{num1} + {num2} = {result}\")\n",
    "elif operation == \"-\":\n",
    "    result = num1 - num2\n",
    "    print(f\"{num1} - {num2} = {result}\")\n",
    "elif operation == \"*\":\n",
    "    result = num1 * num2\n",
    "    print(f\"{num1} * {num2} = {result}\")\n",
    "elif operation == \"/\":\n",
    "    if num2 != 0:\n",
    "        result = num1 / num2\n",
    "        print(f\"{num1} / {num2} = {result}\")\n",
    "    else:\n",
    "        print(\"Division by zero is not allowed.\")\n",
    "else:\n",
    "    print(\"Invalid operation. Please enter +, -, *, or /.\")\n"
   ]
  },
  {
   "cell_type": "markdown",
   "id": "11c78b96",
   "metadata": {},
   "source": [
    "# 9. Write a python program to take the temperature in Celsius and convert it to a Fahrenheit."
   ]
  },
  {
   "cell_type": "code",
   "execution_count": 62,
   "id": "a23b0343",
   "metadata": {},
   "outputs": [
    {
     "name": "stdout",
     "output_type": "stream",
     "text": [
      "Enter temperature in Celsius: 100\n",
      "100.0 degrees Celsius is equal to 212.0 degrees Fahrenheit.\n"
     ]
    }
   ],
   "source": [
    "celsius = float(input(\"Enter temperature in Celsius: \"))\n",
    "\n",
    "fahrenheit = (celsius * 9/5) + 32\n",
    "\n",
    "\n",
    "print(f\"{celsius} degrees Celsius is equal to {fahrenheit} degrees Fahrenheit.\")\n"
   ]
  },
  {
   "cell_type": "markdown",
   "id": "76d3e65b",
   "metadata": {},
   "source": [
    "# 10. Write a python program to find a maximum and minimum number in a list without using an Inbuilt function."
   ]
  },
  {
   "cell_type": "code",
   "execution_count": 63,
   "id": "5f2e9997",
   "metadata": {},
   "outputs": [
    {
     "name": "stdout",
     "output_type": "stream",
     "text": [
      "Enter the number of elements in the list: 5\n",
      "Enter element 1: 34\n",
      "Enter element 2: 25\n",
      "Enter element 3: 87\n",
      "Enter element 4: 98\n",
      "Enter element 5: 98\n",
      "Maximum number in the list: 98.0\n",
      "Minimum number in the list: 25.0\n"
     ]
    }
   ],
   "source": [
    "numbers = []\n",
    "n = int(input(\"Enter the number of elements in the list: \"))\n",
    "\n",
    "for i in range(n):\n",
    "    num = float(input(f\"Enter element {i + 1}: \"))\n",
    "    numbers.append(num)\n",
    "\n",
    "maximum = numbers[0]\n",
    "minimum = numbers[0]\n",
    "\n",
    "for num in numbers:\n",
    "    if num > maximum:\n",
    "        maximum = num\n",
    "    if num < minimum:\n",
    "        minimum = num\n",
    "print(f\"Maximum number in the list: {maximum}\")\n",
    "print(f\"Minimum number in the list: {minimum}\")\n"
   ]
  },
  {
   "cell_type": "markdown",
   "id": "8a06ebe6",
   "metadata": {},
   "source": [
    "# 11.write a program in python to print out the number of seconds in 30-day month 30 days, 24 hours in a day, 60 minutes per day, 60 seconds in a minute"
   ]
  },
  {
   "cell_type": "code",
   "execution_count": 65,
   "id": "9109cfa7",
   "metadata": {},
   "outputs": [
    {
     "name": "stdout",
     "output_type": "stream",
     "text": [
      "The number of seconds in a 30-day month is: 2592000 seconds.\n"
     ]
    }
   ],
   "source": [
    "\n",
    "days = 30\n",
    "hours = 24\n",
    "minutes = 60\n",
    "seconds = 60\n",
    "\n",
    "seconds_in_month = days* hours * minutes * seconds\n",
    "\n",
    "\n",
    "print(f\"The number of seconds in a 30-day month is: {seconds_in_month} seconds.\")\n"
   ]
  },
  {
   "cell_type": "markdown",
   "id": "692dca5e",
   "metadata": {},
   "source": [
    "# 12. Number of seconds in a year"
   ]
  },
  {
   "cell_type": "code",
   "execution_count": 66,
   "id": "8821a180",
   "metadata": {},
   "outputs": [
    {
     "name": "stdout",
     "output_type": "stream",
     "text": [
      "The number of seconds in a 30-day month is: 31104000 seconds.\n"
     ]
    }
   ],
   "source": [
    "days = 30\n",
    "hours = 24\n",
    "minutes = 60\n",
    "seconds = 60\n",
    "year = 12\n",
    "\n",
    "seconds_in_year = days* hours * minutes * seconds * year\n",
    "\n",
    "\n",
    "print(f\"The number of seconds in a 30-day month is: {seconds_in_year} seconds.\")\n"
   ]
  },
  {
   "cell_type": "markdown",
   "id": "b741c0d5",
   "metadata": {},
   "source": [
    "# 13. A high-speed train can travel at an average speed of 150 mph, how long will it take a train travelling at this speed to travel from London to Glasgow which is 414 miles away?"
   ]
  },
  {
   "cell_type": "code",
   "execution_count": 68,
   "id": "a809b4c6",
   "metadata": {},
   "outputs": [
    {
     "name": "stdout",
     "output_type": "stream",
     "text": [
      "It will take 2.76 hours to travel from London to Glasgow at an average speed of 150 mph.\n"
     ]
    }
   ],
   "source": [
    "\n",
    "distance = 414 \n",
    "speed = 150    \n",
    "\n",
    "time = distance / speed\n",
    "\n",
    "print(f\"It will take {time} hours to travel from London to Glasgow at an average speed of 150 mph.\")\n"
   ]
  },
  {
   "cell_type": "markdown",
   "id": "11719d2a",
   "metadata": {},
   "source": [
    "#  14.Write a python program that defines a variable called days_in_each_school_year and assign 192 to the variable. The program should then print out the total hours that you spend in school from: year 7 to year 11, if each day you spend 6 hours in school days in each school year = 192"
   ]
  },
  {
   "cell_type": "code",
   "execution_count": 69,
   "id": "f33c2818",
   "metadata": {},
   "outputs": [
    {
     "name": "stdout",
     "output_type": "stream",
     "text": [
      "Total hours spent in school from year 7 to year 11: 5760 hours.\n"
     ]
    }
   ],
   "source": [
    "days_in_each_school_year = 192  \n",
    "\n",
    "years = 5  \n",
    "\n",
    "total_hours = days_in_each_school_year * years * 6  \n",
    "\n",
    "print(f\"Total hours spent in school from year 7 to year 11: {total_hours} hours.\")\n"
   ]
  },
  {
   "cell_type": "markdown",
   "id": "42659deb",
   "metadata": {},
   "source": [
    "# 15. If the age of Ram,Sam and Khan are input through the keyboard,write a python program to determine the eldest and youngest of the three."
   ]
  },
  {
   "cell_type": "code",
   "execution_count": 71,
   "id": "952dc5a9",
   "metadata": {},
   "outputs": [
    {
     "name": "stdout",
     "output_type": "stream",
     "text": [
      "Enter the age of Ram: 45\n",
      "Enter the age of Sam: 56\n",
      "Enter the age of Khan: 23\n",
      "The eldest among Ram, Sam, and Khan is: Sam\n",
      "The youngest among Ram, Sam, and Khan is: Khan\n"
     ]
    }
   ],
   "source": [
    "ram = int(input(\"Enter the age of Ram: \"))\n",
    "sam = int(input(\"Enter the age of Sam: \"))\n",
    "khan = int(input(\"Enter the age of Khan: \"))\n",
    "\n",
    "if ram > sam and ram > khan:\n",
    "    eldest = \"Ram\"\n",
    "elif sam > ram and sam > khan:\n",
    "    eldest = \"Sam\"\n",
    "else:\n",
    "    eldest = \"Khan\"\n",
    "\n",
    "if ram < sam and ram < khan:\n",
    "    youngest = \"Ram\"\n",
    "elif sam < ram and sam < khan:\n",
    "    youngest = \"Sam\"\n",
    "else:\n",
    "    youngest = \"Khan\"\n",
    "\n",
    "print(f\"The eldest among Ram, Sam, and Khan is: {eldest}\")\n",
    "print(f\"The youngest among Ram, Sam, and Khan is: {youngest}\")\n"
   ]
  },
  {
   "cell_type": "markdown",
   "id": "c5d8d065",
   "metadata": {},
   "source": [
    "# 16. Write a python program to rotate a list by right n times with and without slicing technique"
   ]
  },
  {
   "cell_type": "code",
   "execution_count": 73,
   "id": "47e4a033",
   "metadata": {},
   "outputs": [
    {
     "name": "stdout",
     "output_type": "stream",
     "text": [
      "Enter the number of rotations: 2\n",
      "List after rotation without slicing: [4, 5, 1, 2, 3]\n"
     ]
    }
   ],
   "source": [
    "# Without slicing\n",
    "\n",
    "def rotate(lst, n):\n",
    "    if len(lst) == 0:\n",
    "        return lst\n",
    "    n = n % len(lst)  \n",
    "    for _ in range(n):\n",
    "        lst.insert(0, lst.pop())\n",
    "    return lst\n",
    "\n",
    "\n",
    "my_list = [1, 2, 3, 4, 5]\n",
    "rotations = int(input(\"Enter the number of rotations: \"))\n",
    "\n",
    "result = rotate(my_list, rotations)\n",
    "\n",
    "print(\"List after rotation without slicing:\", result)\n"
   ]
  },
  {
   "cell_type": "code",
   "execution_count": null,
   "id": "26bcc9d0",
   "metadata": {},
   "outputs": [],
   "source": []
  }
 ],
 "metadata": {
  "kernelspec": {
   "display_name": "Python 3 (ipykernel)",
   "language": "python",
   "name": "python3"
  },
  "language_info": {
   "codemirror_mode": {
    "name": "ipython",
    "version": 3
   },
   "file_extension": ".py",
   "mimetype": "text/x-python",
   "name": "python",
   "nbconvert_exporter": "python",
   "pygments_lexer": "ipython3",
   "version": "3.11.4"
  }
 },
 "nbformat": 4,
 "nbformat_minor": 5
}
