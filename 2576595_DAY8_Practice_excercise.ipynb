{
 "cells": [
  {
   "cell_type": "markdown",
   "id": "8182425a",
   "metadata": {},
   "source": [
    "# 3. Write a Python program for sorting a list of elements using selection sort algorithm:\n",
    "a. Assume two lists: Sorted list- Initially empty and Unsorted List-Given input list.\n",
    "b. In the first iteration, find the smallest element in the unsorted list and place it in the sorted list.\n",
    "c. In the second iteration, find the smallest element in the unsorted list and place it in the correct position by comparing with the element in the sorted list.\n",
    "d. In the third iteration, again find the smallest element in the unsorted list and place it in the correct position by comparing with the elements in the sorted list.\n",
    "e. This process continues till the unsorted list becomes empty.\n",
    "f. Display the sorted list."
   ]
  },
  {
   "cell_type": "code",
   "execution_count": 8,
   "id": "89358187",
   "metadata": {},
   "outputs": [
    {
     "name": "stdout",
     "output_type": "stream",
     "text": [
      "Sorted list: [12, 34, 56, 78, 87]\n"
     ]
    }
   ],
   "source": [
    "def selection(lst):\n",
    "    n = len(lst)\n",
    "    for i in range(n):\n",
    "        index = i\n",
    "        for j in range(i + 1, n):\n",
    "            if lst[j] < lst[index]:\n",
    "                index = j\n",
    "        lst[i], lst[index] = lst[index], lst[i]\n",
    "list = [78,12,34,56,87]\n",
    "selection(list)\n",
    "print(\"Sorted list:\", list)"
   ]
  },
  {
   "cell_type": "markdown",
   "id": "809866d6",
   "metadata": {},
   "source": [
    "# 4. Write a Python program for sorting a list of elements using insertion sort algorithm.\n",
    "a. Assume two lists: Sorted list- Initially empty and Unsorted List-Given input list.\n",
    "b. In the first iteration, take the first element in the unsorted list and insert it ip Sorted list.\n",
    "c. In the second iteration, take the second element in the given list and compare with the element in the sorted sub list and place it in the correct position.\n",
    "d. In the third iteration, take the third element in the given list and compare with the elements in the sorted sub list and place the elements in the corect position. \n",
    "e. This process continues until the last element is inserted in the sorted sub list.\n",
    "f. Display the sorted elements."
   ]
  },
  {
   "cell_type": "code",
   "execution_count": 10,
   "id": "5ef0d777",
   "metadata": {},
   "outputs": [
    {
     "name": "stdout",
     "output_type": "stream",
     "text": [
      "Sorted list: [10, 12, 36, 47, 56]\n"
     ]
    }
   ],
   "source": [
    "def insertion(a):\n",
    "    for i in range(1, len(a)):\n",
    "        key = a[i]  \n",
    "        j = i - 1\n",
    "        while j >= 0 and key < a[j]:\n",
    "            a[j + 1] = a[j]\n",
    "            j -= 1\n",
    "        a[j + 1] = key\n",
    "list = [56,12,47,10,36]\n",
    "insertion(list)\n",
    "print(\"Sorted list:\", list)"
   ]
  },
  {
   "cell_type": "markdown",
   "id": "771da6e5",
   "metadata": {},
   "source": [
    "# 5. Write a Python program that performs merge sort on a list of numbers:\n",
    "a. Divide: If the given array has zero or one element, return.\n",
    "        i. Otherwise \n",
    "        ii. Divide the input list in to two halves each containing half of the elements. i.e. left half and right half\n",
    "\n",
    "b. Conquer: Recursively sort the two lists (left half and right half).\n",
    "        1. Call the merge sort on left half.\n",
    "        2. Call the merge sort on right half.\n",
    "c. Combine: Combine the elements hack in the input list by merging the two sorted lists into a sorted sequence."
   ]
  },
  {
   "cell_type": "code",
   "execution_count": 11,
   "id": "232941e4",
   "metadata": {},
   "outputs": [
    {
     "name": "stdout",
     "output_type": "stream",
     "text": [
      "Sorted list: [3, 9, 10, 27, 38, 43, 82]\n"
     ]
    }
   ],
   "source": [
    "def merge_sort(arr):\n",
    "    if len(arr) > 1:\n",
    "        mid = len(arr) // 2  \n",
    "        left_half = arr[:mid] \n",
    "        right_half = arr[mid:]\n",
    "\n",
    "        merge_sort(left_half)\n",
    "        merge_sort(right_half)\n",
    "\n",
    "        i = j = k = 0\n",
    "\n",
    "        while i < len(left_half) and j < len(right_half):\n",
    "            if left_half[i] < right_half[j]:\n",
    "                arr[k] = left_half[i]\n",
    "                i += 1\n",
    "            else:\n",
    "                arr[k] = right_half[j]\n",
    "                j += 1\n",
    "            k += 1\n",
    "\n",
    "        while i < len(left_half):\n",
    "            arr[k] = left_half[i]\n",
    "            i += 1\n",
    "            k += 1\n",
    "\n",
    "        while j < len(right_half):\n",
    "            arr[k] = right_half[j]\n",
    "            j += 1\n",
    "            k += 1\n",
    "\n",
    "list = [38, 27, 43, 3, 9, 82, 10]\n",
    "merge_sort(list)\n",
    "print(\"Sorted list:\", list)\n"
   ]
  },
  {
   "cell_type": "code",
   "execution_count": null,
   "id": "efae39b7",
   "metadata": {},
   "outputs": [],
   "source": []
  }
 ],
 "metadata": {
  "kernelspec": {
   "display_name": "Python 3 (ipykernel)",
   "language": "python",
   "name": "python3"
  },
  "language_info": {
   "codemirror_mode": {
    "name": "ipython",
    "version": 3
   },
   "file_extension": ".py",
   "mimetype": "text/x-python",
   "name": "python",
   "nbconvert_exporter": "python",
   "pygments_lexer": "ipython3",
   "version": "3.11.4"
  }
 },
 "nbformat": 4,
 "nbformat_minor": 5
}
