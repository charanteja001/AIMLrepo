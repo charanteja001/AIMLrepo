{
 "cells": [
  {
   "cell_type": "markdown",
   "id": "30afac67",
   "metadata": {},
   "source": [
    "# 1. Write a python program with Exception handling to input marks for five subjects Physics, Chemistry, Biology, Mathematics, and Computer. Calculate the percentage and grade according to the following:\n",
    "\n",
    "i)\n",
    "\n",
    "Percentage >= 90%: Grade A\n",
    "\n",
    "ii)\n",
    "\n",
    "Percentage >= 80% : Grade B\n",
    "\n",
    "Percentage >= 70%: Grade C\n",
    "\n",
    "iv)\n",
    "\n",
    "Percentage >= 60%: Grade D\n",
    "\n",
    "v) Percentage >= 40%: Grade E\n",
    "\n",
    "vi) Percentage <40%: Grade F"
   ]
  },
  {
   "cell_type": "code",
   "execution_count": 27,
   "id": "71320b6b",
   "metadata": {},
   "outputs": [
    {
     "name": "stdout",
     "output_type": "stream",
     "text": [
      "Enter the marks in physics :70\n",
      "Enter the marks in chemistry :75\n",
      "Enter the marks in biology :80\n",
      "Enter the marks in mathematics :79\n",
      "Enter the marks in computer :90\n",
      "Percentage :78.8%\n",
      "Grade :C\n"
     ]
    }
   ],
   "source": [
    "try :\n",
    "    physics = int(input(\"Enter the marks in physics :\"))\n",
    "    chemistry = int(input(\"Enter the marks in chemistry :\"))\n",
    "    biology = int(input(\"Enter the marks in biology :\"))\n",
    "    mathematics = int(input(\"Enter the marks in mathematics :\"))\n",
    "    computer = int(input(\"Enter the marks in computer :\"))\n",
    "    \n",
    "    if(physics<0 or chemistry<0 or biology<0 or mathematics<0 or computer<0):\n",
    "        raise ValueError(\"Please give positive numbers\")\n",
    "    else:\n",
    "        total_marks = physics+chemistry+biology+mathematics+computer \n",
    "        percentage = (total_marks/500) * 100\n",
    "        \n",
    "        if percentage >= 90:\n",
    "            grade = 'A'\n",
    "        elif percentage >= 80:\n",
    "            grade = 'B'\n",
    "        elif percentage >= 70:\n",
    "            grade = 'C'\n",
    "        elif percentage >= 60:\n",
    "            grade = 'D'  \n",
    "        elif percentage >= 40:\n",
    "            grade = 'E'\n",
    "        else:\n",
    "            grade = 'F'\n",
    "            \n",
    "        print(f\"Percentage :{percentage}%\")\n",
    "        print(f\"Grade :{grade}\")\n",
    "except ValueError as error:\n",
    "    print(f\"Invalid input: {error}\")     \n",
    "        "
   ]
  },
  {
   "cell_type": "markdown",
   "id": "426e40b1",
   "metadata": {},
   "source": [
    "#  2. Write a python program with Exception handling to input electricity unit charges and calculate the total electricity bill according to the given condition:\n",
    "\n",
    "i) For the first 50 units Rs. 0.50/unit\n",
    "\n",
    "ii) For the next 100 units Rs. 0.75/unit\n",
    "\n",
    "iii) For the next 100 units Rs. 1.20/unit\n",
    "\n",
    "iv) For units above 250 Rs. 1.50/unit\n",
    "\n",
    "v) An additional surcharge of 20% is added to the bill"
   ]
  },
  {
   "cell_type": "code",
   "execution_count": 33,
   "id": "f45c3532",
   "metadata": {},
   "outputs": [
    {
     "name": "stdout",
     "output_type": "stream",
     "text": [
      "Enter the electricity unit charges: 60\n",
      "Total bill with 20% surcharge is : Rs. 39.0\n"
     ]
    }
   ],
   "source": [
    "try:\n",
    "    units = int(input(\"Enter the electricity unit charges: \"))\n",
    "\n",
    "    if units < 0:\n",
    "        raise ValueError(\"Electricity units cannot be negative.\")\n",
    "    else:\n",
    "        if units <= 50:\n",
    "            total_bill = units * 0.50\n",
    "        elif units <= 150:\n",
    "            total_bill = 25 + ((units - 50) * 0.75)\n",
    "        elif units <= 250:\n",
    "            total_bill = 100 + ((units - 150) * 1.20)\n",
    "        else:\n",
    "            total_bill = 220 + ((units - 250) * 1.50)\n",
    "         \n",
    "    surcharge = total_bill * 0.20\n",
    "    tot = total_bill + surcharge\n",
    "\n",
    "    print(f\"Total bill with 20% surcharge is : Rs. {tot}\")\n",
    "except ValueError as error:\n",
    "    print(f\"Invalid input: {error}\")"
   ]
  },
  {
   "cell_type": "markdown",
   "id": "a52bb9be",
   "metadata": {},
   "source": [
    "# 3. Write a python program with Exception handling to input the week number and print the weekday."
   ]
  },
  {
   "cell_type": "code",
   "execution_count": 19,
   "id": "5489e25e",
   "metadata": {},
   "outputs": [
    {
     "name": "stdout",
     "output_type": "stream",
     "text": [
      "Enter the week number : 7\n",
      "The weekday for the number 7 is Sunday\n"
     ]
    }
   ],
   "source": [
    "try:\n",
    "    number = int(input(\"Enter the week number : \"))\n",
    "    if number<=0 or number>7:\n",
    "        raise ValueError(\"Enter the numbers in range 1 to 7\")\n",
    "    else:\n",
    "        weekdays = [\"Monday\",\"Tuesday\",\"Wednesday\",\"Thursday\",\"Friday\",\"Saturday\",\"Sunday\"]\n",
    "    print(f\"The weekday for the number {number} is {weekdays[number-1]}\")\n",
    "except ValueError as error:\n",
    "    print(f\"Invalid input: {error}\")\n",
    "        "
   ]
  },
  {
   "cell_type": "code",
   "execution_count": null,
   "id": "703c33f0",
   "metadata": {},
   "outputs": [],
   "source": []
  },
  {
   "cell_type": "markdown",
   "id": "3ec05ac6",
   "metadata": {},
   "source": [
    "# 5. Write a Python program for finding the most frequent words in a text read from a file. \n",
    "\n",
    "i) Initially open the text file in read mode.\n",
    "\n",
    "ii) Make all the letters in the document into lowercase letters and split the words in each line.\n",
    "\n",
    "iii) Get the words in an order.\n",
    "\n",
    "iv) Sort the words for finding the most frequent words in the file\n",
    "\n",
    "v) print the most frequent words in the file."
   ]
  },
  {
   "cell_type": "code",
   "execution_count": 11,
   "id": "3f5d7289",
   "metadata": {},
   "outputs": [
    {
     "name": "stdout",
     "output_type": "stream",
     "text": [
      "Enter the number of words to be printed : 5\n",
      "the: 18 \n",
      "in: 14 \n",
      "of: 7 \n",
      "his: 6 \n",
      "international: 6 \n"
     ]
    }
   ],
   "source": [
    "file = \"file5.txt\"\n",
    "try:\n",
    "    with open(file,'r') as f:\n",
    "        text = f.read().lower()\n",
    "    words = text.split()\n",
    "    word_count = {}\n",
    "    for word in words:\n",
    "        if word in word_count:\n",
    "            word_count[word] += 1\n",
    "        else:\n",
    "            word_count[word] = 1\n",
    "    sort = sorted(word_count.items(), key=lambda x: x[1], reverse= True)\n",
    "\n",
    "    n = int(input(\"Enter the number of words to be printed : \"))\n",
    "    for word, count in sort[:n]:\n",
    "        print(f\"{word}: {count} \")\n",
    "except FileNotFoundError:\n",
    "    print(f\"File '{file}' not found.\")\n",
    "        "
   ]
  },
  {
   "cell_type": "code",
   "execution_count": null,
   "id": "1cf10113",
   "metadata": {},
   "outputs": [],
   "source": []
  }
 ],
 "metadata": {
  "kernelspec": {
   "display_name": "Python 3 (ipykernel)",
   "language": "python",
   "name": "python3"
  },
  "language_info": {
   "codemirror_mode": {
    "name": "ipython",
    "version": 3
   },
   "file_extension": ".py",
   "mimetype": "text/x-python",
   "name": "python",
   "nbconvert_exporter": "python",
   "pygments_lexer": "ipython3",
   "version": "3.11.4"
  }
 },
 "nbformat": 4,
 "nbformat_minor": 5
}
